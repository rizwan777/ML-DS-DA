{
 "cells": [
  {
   "cell_type": "markdown",
   "metadata": {},
   "source": [
    "### <center> Several MATHS Distance Formulas </center>"
   ]
  },
  {
   "cell_type": "code",
   "execution_count": 105,
   "metadata": {},
   "outputs": [],
   "source": [
    "######  note always use any function regarding any arithmatic operation must it belongs to  numpy libray\n",
    "###### not like max, sum, etc. its must be np.max, np.sum like this."
   ]
  },
  {
   "cell_type": "code",
   "execution_count": 9,
   "metadata": {},
   "outputs": [],
   "source": [
    "import numpy as np\n",
    "import math"
   ]
  },
  {
   "attachments": {
    "image.png": {
     "image/png": "[encoded data removed]"
    }
   },
   "cell_type": "markdown",
   "metadata": {},
   "source": [
    "### 1. Manhattan distance\n",
    "The distance between Manhattan and the city block is also defined as follows:\n",
    "\n",
    "\n",
    "![image.png](attachment:image.png)"
   ]
  },
  {
   "cell_type": "code",
   "execution_count": 10,
   "metadata": {},
   "outputs": [],
   "source": [
    "vector1 = np.mat([1,5,1,5])\n",
    "vector2 = np.mat([8,23,6,5])"
   ]
  },
  {
   "cell_type": "code",
   "execution_count": 68,
   "metadata": {},
   "outputs": [
    {
     "name": "stdout",
     "output_type": "stream",
     "text": [
      "Manhattan Distance ==> [[ 7 18  5  0]]\n"
     ]
    }
   ],
   "source": [
    "print(\"Manhattan Distance ==>\", sum(abs(vector1-vector2)))\n",
    "# here abs stands for absolute values after doing subtraction. inshort positive values."
   ]
  },
  {
   "attachments": {
    "image.png": {
     "image/png": "[encoded data removed]"
    }
   },
   "cell_type": "markdown",
   "metadata": {},
   "source": [
    "### 2. Euclidean Distance\n",
    "The Euclidean distance is actually the L2 norm. The mathematical definition is as follows\n",
    "![image.png](attachment:image.png)\n",
    "\n",
    "note: if you want to use \"SIGMA\", insted of sigma as T."
   ]
  },
  {
   "cell_type": "code",
   "execution_count": 67,
   "metadata": {},
   "outputs": [
    {
     "name": "stdout",
     "output_type": "stream",
     "text": [
      "Euclidean Distance ==> [[19.94993734]]\n"
     ]
    }
   ],
   "source": [
    "print(\"Euclidean Distance ==>\", np.sqrt((vector1-vector2)*(vector1-vector2).T))\n",
    "# else you can  use by your understanding just like below \n",
    "# np.sqrt(np.sum(np.square(vector1-vector2)))"
   ]
  },
  {
   "cell_type": "code",
   "execution_count": 66,
   "metadata": {},
   "outputs": [
    {
     "data": {
      "text/plain": [
       "19.949937343260004"
      ]
     },
     "execution_count": 66,
     "metadata": {},
     "output_type": "execute_result"
    }
   ],
   "source": [
    "np.sqrt(np.sum(np.square(vector1-vector2)))"
   ]
  },
  {
   "attachments": {
    "image.png": {
     "image/png": "[encoded data removed]"
    }
   },
   "cell_type": "markdown",
   "metadata": {},
   "source": [
    "### 3. Minkowski distance\n",
    "Strictly speaking, Minkowski distance is not a distance, but a definition of a set of distances:\n",
    "![image.png](attachment:image.png)\n",
    "(note: In fact, when p=1, it is the Manhattan distance; when p=2, it is the Euclidean distance.)"
   ]
  },
  {
   "cell_type": "code",
   "execution_count": 77,
   "metadata": {},
   "outputs": [],
   "source": [
    "#same formula apply with condition just like if p=1 then use Manhattan distance or 2 for Euclidean Distance."
   ]
  },
  {
   "attachments": {
    "image.png": {
     "image/png": "[encoded data removed]"
    }
   },
   "cell_type": "markdown",
   "metadata": {},
   "source": [
    "### 4, Chebyshev distance\n",
    "The Chebyshev distance is [formula]the infinite norm, and the mathematical expression is as follows:\n",
    "![image.png](attachment:image.png)"
   ]
  },
  {
   "cell_type": "code",
   "execution_count": 96,
   "metadata": {},
   "outputs": [
    {
     "data": {
      "text/plain": [
       "4.242640687119285"
      ]
     },
     "execution_count": 96,
     "metadata": {},
     "output_type": "execute_result"
    }
   ],
   "source": [
    "np.sqrt(np.max(abs(vector1-vector2)))\n",
    "# here we need a single maximum number after doing operation \n",
    "# if we dont use sqrt function we get this op ===> matrix([[2.64575131, 4.24264069, 2.23606798, 0.        ]])\n",
    "# but we need max from the matrix so we use np.sqrt to get single maximum value from the matrix."
   ]
  },
  {
   "attachments": {
    "image.png": {
     "image/png": "[encoded data removed]"
    }
   },
   "cell_type": "markdown",
   "metadata": {},
   "source": [
    "### 5. The angle cosine\n",
    "The angle cosine has a value range of [-1, 1], which can be used to measure the difference between two vector directions\n",
    "\n",
    "![image.png](attachment:image.png)"
   ]
  },
  {
   "cell_type": "markdown",
   "metadata": {},
   "source": [
    "###### (note : the larger the cosine of the angle, the smaller the angle between the two vectors; when the directions of the two vectors coincide The cosine of the angle takes the maximum value of 1; when the directions of the two vectors are completely opposite, the cosine of the angle takes the minimum value of -1.)"
   ]
  },
  {
   "cell_type": "code",
   "execution_count": 146,
   "metadata": {},
   "outputs": [],
   "source": [
    "# this is formula ==> np.dot(vector1,vector2)/(np.linalg.norm(vector1)*np.linalg.norm(vector2))\n",
    "# this is the formula but you need to take care of its all inputs \n",
    "# here,  np.dot(vector1,vector2)\n",
    "# in this we need to take care of its shape {rows,columns} must be suitable or fit according to its condition."
   ]
  },
  {
   "cell_type": "markdown",
   "metadata": {},
   "source": [
    "### 6, Hamming distance\n",
    "Hamming distance defines the number of different numbers of digits in two strings.<br>\n",
    "ex: Hamming distance betn the strings '1111' and '1001' is 2.<br>\n",
    "(note: Information coding should generally be such that the Hamming distance between codes is as small as possible.)"
   ]
  },
  {
   "cell_type": "code",
   "execution_count": 177,
   "metadata": {},
   "outputs": [
    {
     "data": {
      "text/plain": [
       "(array([1, 2], dtype=int64),)"
      ]
     },
     "execution_count": 177,
     "metadata": {},
     "output_type": "execute_result"
    }
   ],
   "source": [
    "a=np.array([1,1,1,1])\n",
    "b=np.array([1,0,0,1])\n",
    "res=np.nonzero(a-b)\n",
    "res"
   ]
  },
  {
   "attachments": {
    "image.png": {
     "image/png": "[encoded data removed]"
    }
   },
   "cell_type": "markdown",
   "metadata": {},
   "source": [
    "### 7. Jake's similarity coefficient\n",
    "The Jakedian similarity coefficient is an indicator of the similarity between two sets. It can generally be used to measure the similarity of samples.\n",
    "![image.png](attachment:image.png)"
   ]
  },
  {
   "cell_type": "code",
   "execution_count": null,
   "metadata": {},
   "outputs": [],
   "source": []
  }
 ],
 "metadata": {
  "kernelspec": {
   "display_name": "Python 3",
   "language": "python",
   "name": "python3"
  },
  "language_info": {
   "codemirror_mode": {
    "name": "ipython",
    "version": 3
   },
   "file_extension": ".py",
   "mimetype": "text/x-python",
   "name": "python",
   "nbconvert_exporter": "python",
   "pygments_lexer": "ipython3",
   "version": "3.6.7"
  }
 },
 "nbformat": 4,
 "nbformat_minor": 2
}
