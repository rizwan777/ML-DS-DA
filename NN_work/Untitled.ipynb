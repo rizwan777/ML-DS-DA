{
 "cells": [
  {
   "cell_type": "code",
   "execution_count": 1,
   "metadata": {},
   "outputs": [],
   "source": [
    "import tensorflow as tf\n",
    "import numpy as np"
   ]
  },
  {
   "cell_type": "code",
   "execution_count": 2,
   "metadata": {},
   "outputs": [
    {
     "data": {
      "text/plain": [
       "(7, 3)"
      ]
     },
     "execution_count": 2,
     "metadata": {},
     "output_type": "execute_result"
    }
   ],
   "source": [
    "features =np.array([0,0,1,1,0,0,0,1,0,1,1,0,1,0,1,0,1,1,1,1,1]).reshape(7,3)\n",
    "features.shape"
   ]
  },
  {
   "cell_type": "code",
   "execution_count": 3,
   "metadata": {},
   "outputs": [
    {
     "data": {
      "text/plain": [
       "(7, 1)"
      ]
     },
     "execution_count": 3,
     "metadata": {},
     "output_type": "execute_result"
    }
   ],
   "source": [
    "labels = np.array([0,0,1,1,0,1,1]).reshape(7,1)\n",
    "labels.shape"
   ]
  },
  {
   "cell_type": "code",
   "execution_count": 4,
   "metadata": {},
   "outputs": [],
   "source": [
    "weights = np.random.rand(3,1)"
   ]
  },
  {
   "cell_type": "code",
   "execution_count": 5,
   "metadata": {},
   "outputs": [],
   "source": [
    "def sigmoid(x):\n",
    "    return 1/(1*np.exp(-x))"
   ]
  },
  {
   "cell_type": "code",
   "execution_count": 6,
   "metadata": {},
   "outputs": [],
   "source": [
    "def sigmoid_derivation(x):\n",
    "    return sigmoid(x)*(1-sigmoid(x))"
   ]
  },
  {
   "cell_type": "code",
   "execution_count": 27,
   "metadata": {},
   "outputs": [],
   "source": [
    "def feedforward(weights,features):\n",
    "    for i in range(1):\n",
    "        l0 = features # 7x3\n",
    "        l1 = sigmoid(np.dot(features,weights)) # 7x3 . 3x1 = > 7x1\n",
    "        l1_error = labels - l1    # 7x1\n",
    "        l1_delta = l1_error * sigmoid_derivation(l1) # 7x3\n",
    "        weights += np.dot(l0.T,l1) + 0.001  # 3x7 . 7*3 \n",
    "    print(l1)\n",
    "        \n",
    "#         l1 = np.dot(features,weights)\n",
    "#         print(\"model\",l1) # 7x1\n",
    "#         activationFunction_first = sigmoid(l1)\n",
    "#         print(\"activation\",activationFunction_first)\n",
    "#         error = labels - activationFunction_first \n",
    "#         print(\"error\",error,error.shape)\n",
    "#         activationFunction_second = error * sigmoid_derivation(activationFunction_first)\n",
    "#         print(activationFunction_second, activationFunction_second.T.shape)\n",
    "#         weights += np.dot(features,weights.T).reshape(3,1)\n",
    "\n",
    "    \n",
    "#     weights += error * \n",
    "    "
   ]
  },
  {
   "cell_type": "code",
   "execution_count": 28,
   "metadata": {},
   "outputs": [
    {
     "name": "stdout",
     "output_type": "stream",
     "text": [
      "[[ 2.64503516]\n",
      " [ 2.63012096]\n",
      " [ 1.72846244]\n",
      " [ 4.54606529]\n",
      " [ 6.95676244]\n",
      " [ 4.57184393]\n",
      " [12.02450256]]\n"
     ]
    }
   ],
   "source": [
    "weights = np.random.rand(3,1)\n",
    "np.random.seed(4)\n",
    "feedforward(weights,features)"
   ]
  },
  {
   "cell_type": "code",
   "execution_count": 32,
   "metadata": {},
   "outputs": [
    {
     "name": "stdout",
     "output_type": "stream",
     "text": [
      "[9.36189729e+23]\n"
     ]
    }
   ],
   "source": [
    "single_point = np.array([0,1,1])  \n",
    "result = sigmoid(np.dot(single_point, weights))\n",
    "print(result* 100)\n",
    "# print(f\" {weights},{bias}{np.round(result)}%\")"
   ]
  },
  {
   "cell_type": "code",
   "execution_count": 22,
   "metadata": {},
   "outputs": [
    {
     "data": {
      "text/plain": [
       "array([[ 0.        ],\n",
       "       [ 0.        ],\n",
       "       [-4.67077427],\n",
       "       [-4.67077427],\n",
       "       [ 0.        ],\n",
       "       [-4.67077427],\n",
       "       [-4.67077427]])"
      ]
     },
     "execution_count": 22,
     "metadata": {},
     "output_type": "execute_result"
    }
   ],
   "source": []
  },
  {
   "cell_type": "code",
   "execution_count": null,
   "metadata": {},
   "outputs": [],
   "source": []
  }
 ],
 "metadata": {
  "kernelspec": {
   "display_name": "Python 3",
   "language": "python",
   "name": "python3"
  },
  "language_info": {
   "codemirror_mode": {
    "name": "ipython",
    "version": 3
   },
   "file_extension": ".py",
   "mimetype": "text/x-python",
   "name": "python",
   "nbconvert_exporter": "python",
   "pygments_lexer": "ipython3",
   "version": "3.6.7"
  }
 },
 "nbformat": 4,
 "nbformat_minor": 2
}
