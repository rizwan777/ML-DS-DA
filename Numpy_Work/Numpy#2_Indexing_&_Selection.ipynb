{
 "cells": [
  {
   "cell_type": "markdown",
   "metadata": {},
   "source": [
    "# <center>Numpy Indexing & Selection</center>"
   ]
  },
  {
   "cell_type": "code",
   "execution_count": 1,
   "metadata": {},
   "outputs": [],
   "source": [
    "import numpy as np"
   ]
  },
  {
   "cell_type": "code",
   "execution_count": 2,
   "metadata": {},
   "outputs": [],
   "source": [
    "l =['f','s','t','f','ff','six','s7','s8','s9','s10']  #normal list"
   ]
  },
  {
   "cell_type": "code",
   "execution_count": 8,
   "metadata": {},
   "outputs": [
    {
     "data": {
      "text/plain": [
       "['f', 'ff', 'six', 's7', 's8', 's9', 's10']"
      ]
     },
     "execution_count": 8,
     "metadata": {},
     "output_type": "execute_result"
    }
   ],
   "source": [
    "l[3:]"
   ]
  },
  {
   "cell_type": "code",
   "execution_count": 9,
   "metadata": {},
   "outputs": [
    {
     "data": {
      "text/plain": [
       "array(['f', 's', 't', 'f', 'ff', 'six', 's7', 's8', 's9', 's10'],\n",
       "      dtype='<U3')"
      ]
     },
     "execution_count": 9,
     "metadata": {},
     "output_type": "execute_result"
    }
   ],
   "source": [
    "arr= np.array(l)  #list to array convesion \n",
    "arr"
   ]
  },
  {
   "cell_type": "code",
   "execution_count": 11,
   "metadata": {},
   "outputs": [
    {
     "data": {
      "text/plain": [
       "array(['f', 'ff', 'six', 's7', 's8', 's9', 's10'], dtype='<U3')"
      ]
     },
     "execution_count": 11,
     "metadata": {},
     "output_type": "execute_result"
    }
   ],
   "source": [
    "arr[3:]      # all the operation you can perform as list to array also.!!"
   ]
  },
  {
   "cell_type": "markdown",
   "metadata": {},
   "source": [
    "###  brodcasting ,copying and shallow copying"
   ]
  },
  {
   "cell_type": "code",
   "execution_count": 12,
   "metadata": {},
   "outputs": [
    {
     "data": {
      "text/plain": [
       "array(['f', 's', 't', 'f', 'ff', 'six', 's7', 's8', 's9', 's10'],\n",
       "      dtype='<U3')"
      ]
     },
     "execution_count": 12,
     "metadata": {},
     "output_type": "execute_result"
    }
   ],
   "source": [
    "arr"
   ]
  },
  {
   "cell_type": "code",
   "execution_count": 14,
   "metadata": {},
   "outputs": [
    {
     "data": {
      "text/plain": [
       "array(['f', 's', 't'], dtype='<U3')"
      ]
     },
     "execution_count": 14,
     "metadata": {},
     "output_type": "execute_result"
    }
   ],
   "source": [
    "arr[0:3]"
   ]
  },
  {
   "cell_type": "code",
   "execution_count": 17,
   "metadata": {},
   "outputs": [],
   "source": [
    "arr[0:3] =99   # this will brodcast the selected index with the value 99. inshort assign value 99 to selected array."
   ]
  },
  {
   "cell_type": "code",
   "execution_count": 16,
   "metadata": {},
   "outputs": [
    {
     "data": {
      "text/plain": [
       "array(['99', '99', '99', 'f', 'ff', 'six', 's7', 's8', 's9', 's10'],\n",
       "      dtype='<U3')"
      ]
     },
     "execution_count": 16,
     "metadata": {},
     "output_type": "execute_result"
    }
   ],
   "source": [
    "arr       # it will change the original array. "
   ]
  },
  {
   "cell_type": "markdown",
   "metadata": {},
   "source": [
    "### if you dont want to change the original array value you van copy the main array to another then perform the opration."
   ]
  },
  {
   "cell_type": "code",
   "execution_count": 22,
   "metadata": {},
   "outputs": [],
   "source": [
    "original_arr = arr"
   ]
  },
  {
   "cell_type": "code",
   "execution_count": 23,
   "metadata": {},
   "outputs": [
    {
     "data": {
      "text/plain": [
       "array(['99', '99', '99', 'f', 'ff', 'six', 's7', 's8', 's9', 's10'],\n",
       "      dtype='<U3')"
      ]
     },
     "execution_count": 23,
     "metadata": {},
     "output_type": "execute_result"
    }
   ],
   "source": [
    "original_arr            # over main array"
   ]
  },
  {
   "cell_type": "code",
   "execution_count": 25,
   "metadata": {},
   "outputs": [],
   "source": [
    "copy_arr = original_arr.copy()  # copy original array to another array "
   ]
  },
  {
   "cell_type": "code",
   "execution_count": 26,
   "metadata": {},
   "outputs": [
    {
     "data": {
      "text/plain": [
       "array(['99', '99', '99', 'f', 'ff', 'six', 's7', 's8', 's9', 's10'],\n",
       "      dtype='<U3')"
      ]
     },
     "execution_count": 26,
     "metadata": {},
     "output_type": "execute_result"
    }
   ],
   "source": [
    "copy_arr"
   ]
  },
  {
   "cell_type": "code",
   "execution_count": 27,
   "metadata": {},
   "outputs": [],
   "source": [
    "copy_arr[:]=100       # change the value of copy_arr as 100"
   ]
  },
  {
   "cell_type": "code",
   "execution_count": 28,
   "metadata": {},
   "outputs": [
    {
     "data": {
      "text/plain": [
       "array(['100', '100', '100', '100', '100', '100', '100', '100', '100',\n",
       "       '100'], dtype='<U3')"
      ]
     },
     "execution_count": 28,
     "metadata": {},
     "output_type": "execute_result"
    }
   ],
   "source": [
    "copy_arr    # array values are change to 100."
   ]
  },
  {
   "cell_type": "code",
   "execution_count": 29,
   "metadata": {},
   "outputs": [
    {
     "data": {
      "text/plain": [
       "array(['99', '99', '99', 'f', 'ff', 'six', 's7', 's8', 's9', 's10'],\n",
       "      dtype='<U3')"
      ]
     },
     "execution_count": 29,
     "metadata": {},
     "output_type": "execute_result"
    }
   ],
   "source": [
    "original_arr   # but here it didnt affact the original array."
   ]
  },
  {
   "cell_type": "markdown",
   "metadata": {},
   "source": [
    "### Multi-Dimension array Selection / grabbing values "
   ]
  },
  {
   "cell_type": "code",
   "execution_count": 30,
   "metadata": {},
   "outputs": [],
   "source": [
    "arr2D = np.array([[0,5,10],[15,20,25],[30,35,40],[45,50,55]])   # 2-D array created"
   ]
  },
  {
   "cell_type": "code",
   "execution_count": 31,
   "metadata": {},
   "outputs": [
    {
     "data": {
      "text/plain": [
       "array([[ 0,  5, 10],\n",
       "       [15, 20, 25],\n",
       "       [30, 35, 40],\n",
       "       [45, 50, 55]])"
      ]
     },
     "execution_count": 31,
     "metadata": {},
     "output_type": "execute_result"
    }
   ],
   "source": [
    "arr2D       # over 2-D array"
   ]
  },
  {
   "cell_type": "code",
   "execution_count": 32,
   "metadata": {},
   "outputs": [],
   "source": [
    "# fetch/greab values using [][] or [,]  "
   ]
  },
  {
   "cell_type": "code",
   "execution_count": 65,
   "metadata": {},
   "outputs": [
    {
     "data": {
      "text/plain": [
       "array([15, 20, 25])"
      ]
     },
     "execution_count": 65,
     "metadata": {},
     "output_type": "execute_result"
    }
   ],
   "source": [
    "arr2D[1]            # this will fetch whole row of given number."
   ]
  },
  {
   "cell_type": "code",
   "execution_count": 39,
   "metadata": {},
   "outputs": [
    {
     "data": {
      "text/plain": [
       "25"
      ]
     },
     "execution_count": 39,
     "metadata": {},
     "output_type": "execute_result"
    }
   ],
   "source": [
    "arr2D[1,2]           # this is standerd way / less possiblity of errors, here index no of [row,column] "
   ]
  },
  {
   "cell_type": "code",
   "execution_count": 34,
   "metadata": {},
   "outputs": [
    {
     "data": {
      "text/plain": [
       "20"
      ]
     },
     "execution_count": 34,
     "metadata": {},
     "output_type": "execute_result"
    }
   ],
   "source": [
    "arr2D[1][1]           # this is regular way / possiblity of doing errors is high , here index no of [row][column]"
   ]
  },
  {
   "cell_type": "code",
   "execution_count": 36,
   "metadata": {},
   "outputs": [],
   "source": [
    "# you can try to grabe any value of the array using standerd way, or else you can prefer any of them.\n",
    "# easy and batter way is the standerd way."
   ]
  },
  {
   "cell_type": "code",
   "execution_count": 51,
   "metadata": {},
   "outputs": [
    {
     "data": {
      "text/plain": [
       "array([[ 0,  5, 10],\n",
       "       [15, 20, 25],\n",
       "       [30, 35, 40],\n",
       "       [45, 50, 55]])"
      ]
     },
     "execution_count": 51,
     "metadata": {},
     "output_type": "execute_result"
    }
   ],
   "source": [
    "arr2D       # over 2-D array"
   ]
  },
  {
   "cell_type": "code",
   "execution_count": 63,
   "metadata": {},
   "outputs": [
    {
     "data": {
      "text/plain": [
       "array([[ 0,  5],\n",
       "       [15, 20]])"
      ]
     },
     "execution_count": 63,
     "metadata": {},
     "output_type": "execute_result"
    }
   ],
   "source": [
    "# lets grabbing matrix\n",
    "arr2D[:2,:2]\n",
    "# here row = [0:2] it means first two rows\n",
    "# and coulmns [0:2] it means first two columns\n",
    "# you can try to grab matrix, rows, columns. check out  this examples arr2D[2:,1:] ,arr2D[:,2:] and see the result."
   ]
  },
  {
   "cell_type": "markdown",
   "metadata": {},
   "source": [
    "### conditional fetching the values"
   ]
  },
  {
   "cell_type": "code",
   "execution_count": 146,
   "metadata": {},
   "outputs": [],
   "source": [
    "arr = np.random.randint(1,500,50).reshape(5,10)   # 2-D array creatation with randome values between 1-499 size of 50 "
   ]
  },
  {
   "cell_type": "code",
   "execution_count": 173,
   "metadata": {},
   "outputs": [
    {
     "data": {
      "text/plain": [
       "array([[126, 288, 127, 136, 496,  48,  38, 252, 469, 159],\n",
       "       [359, 435, 301, 125,  25, 441, 347, 207, 179, 134],\n",
       "       [ 54, 226, 416,  17, 382,  68, 302, 400, 147, 306],\n",
       "       [128, 372, 401, 398,  58, 294, 450,  48, 133,  68],\n",
       "       [145, 258, 136, 450, 413,  42, 211,  51,  48, 309]])"
      ]
     },
     "execution_count": 173,
     "metadata": {},
     "output_type": "execute_result"
    }
   ],
   "source": [
    "arr                              # original array"
   ]
  },
  {
   "cell_type": "code",
   "execution_count": 126,
   "metadata": {},
   "outputs": [
    {
     "data": {
      "text/plain": [
       "array([[ True,  True,  True,  True,  True,  True,  True,  True,  True,\n",
       "         True],\n",
       "       [ True,  True,  True,  True,  True,  True,  True,  True,  True,\n",
       "         True],\n",
       "       [ True,  True,  True,  True,  True,  True,  True,  True, False,\n",
       "         True],\n",
       "       [False, False,  True,  True,  True,  True,  True,  True,  True,\n",
       "         True],\n",
       "       [ True,  True,  True,  True, False,  True,  True, False,  True,\n",
       "         True]])"
      ]
     },
     "execution_count": 126,
     "metadata": {},
     "output_type": "execute_result"
    }
   ],
   "source": [
    "boolean_array = arr>100         # our condition values must be greater then 100.\n",
    "boolean_array                   # it gives boolean array where value is greater then 100 it gives true else false."
   ]
  },
  {
   "cell_type": "code",
   "execution_count": 127,
   "metadata": {},
   "outputs": [
    {
     "data": {
      "text/plain": [
       "array([461, 237, 469, 328, 187, 422, 226, 143, 149, 432, 294, 103, 478,\n",
       "       405, 344, 286, 327, 180, 114, 135, 354, 334, 418, 150, 163, 244,\n",
       "       332, 385, 401, 451, 147, 460, 210, 486, 199, 385, 191, 397, 494,\n",
       "       388, 269, 370, 495, 337, 387])"
      ]
     },
     "execution_count": 127,
     "metadata": {},
     "output_type": "execute_result"
    }
   ],
   "source": [
    "arr[boolean_array]              # boolean array pass to original array to get values greater then 100."
   ]
  },
  {
   "cell_type": "code",
   "execution_count": null,
   "metadata": {},
   "outputs": [],
   "source": [
    "# this is the shortcut to get values directly from the array"
   ]
  },
  {
   "cell_type": "code",
   "execution_count": 128,
   "metadata": {},
   "outputs": [
    {
     "data": {
      "text/plain": [
       "array([461, 237, 469, 328, 187, 422, 226, 143, 149, 432, 294, 103, 478,\n",
       "       405, 344, 286, 327, 180, 114, 135, 354, 334, 418, 150, 163, 244,\n",
       "       332, 385, 401, 451, 147, 460, 210, 486, 199, 385, 191, 397, 494,\n",
       "       388, 269, 370, 495, 337, 387])"
      ]
     },
     "execution_count": 128,
     "metadata": {},
     "output_type": "execute_result"
    }
   ],
   "source": [
    "arr[arr>100]       #conditional fetching all the values are greater 100 will store in m100."
   ]
  },
  {
   "cell_type": "markdown",
   "metadata": {},
   "source": [
    "### try to print diagonal values orginal and rest of values fill with dummy value as 99 or anyother."
   ]
  },
  {
   "cell_type": "code",
   "execution_count": 208,
   "metadata": {},
   "outputs": [],
   "source": [
    "arr1 = arr.copy()  #lets copy org. array to tempararoy array"
   ]
  },
  {
   "cell_type": "code",
   "execution_count": 209,
   "metadata": {},
   "outputs": [],
   "source": [
    "temp=list()       # temp. list to store the diagonal value"
   ]
  },
  {
   "cell_type": "code",
   "execution_count": 210,
   "metadata": {},
   "outputs": [
    {
     "name": "stdout",
     "output_type": "stream",
     "text": [
      "0 [126 288 127 136 496  48  38 252 469 159]\n",
      "1 [359 435 301 125  25 441 347 207 179 134]\n",
      "2 [ 54 226 416  17 382  68 302 400 147 306]\n",
      "3 [128 372 401 398  58 294 450  48 133  68]\n",
      "4 [145 258 136 450 413  42 211  51  48 309]\n"
     ]
    }
   ],
   "source": [
    "for v,i in enumerate(arr):\n",
    "    print(v,i)\n",
    "    temp.append(arr[v][v])    # store the diagonal values to list\n",
    "    arr1[v]=99                # in row fill all the values with dummy\n",
    "    arr1[v][v]=temp[v]        # fill the diagonal value in the perticular place in row\n",
    "    \n",
    "#     print(arr1[i][i])\n",
    "#     a= arr1[v]\n",
    "#     arr1\n",
    "#     print(arr1.index(a))\n",
    "# #     a[i+1:] = 99\n",
    "#     temp.append(a)"
   ]
  },
  {
   "cell_type": "code",
   "execution_count": 211,
   "metadata": {},
   "outputs": [
    {
     "data": {
      "text/plain": [
       "[126, 435, 416, 398, 413]"
      ]
     },
     "execution_count": 211,
     "metadata": {},
     "output_type": "execute_result"
    }
   ],
   "source": [
    "temp"
   ]
  },
  {
   "cell_type": "code",
   "execution_count": 212,
   "metadata": {},
   "outputs": [
    {
     "data": {
      "text/plain": [
       "array([[126,  99,  99,  99,  99,  99,  99,  99,  99,  99],\n",
       "       [ 99, 435,  99,  99,  99,  99,  99,  99,  99,  99],\n",
       "       [ 99,  99, 416,  99,  99,  99,  99,  99,  99,  99],\n",
       "       [ 99,  99,  99, 398,  99,  99,  99,  99,  99,  99],\n",
       "       [ 99,  99,  99,  99, 413,  99,  99,  99,  99,  99]])"
      ]
     },
     "execution_count": 212,
     "metadata": {},
     "output_type": "execute_result"
    }
   ],
   "source": [
    "arr1"
   ]
  },
  {
   "cell_type": "markdown",
   "metadata": {},
   "source": [
    "### now your task to fil the diagonal values from the top right to left and rest of fill with dummy value as 99\n"
   ]
  },
  {
   "cell_type": "code",
   "execution_count": null,
   "metadata": {},
   "outputs": [],
   "source": [
    "# output as below:\n",
    "#     [[126,  99,  99,  99,  99,  99,  99,  99,  99,  159],\n",
    "#      [99,  435,  99,  99,  99,  99,  99,  99,  179,  99],\n",
    "#      [ 99,  99,  435,  99,  99,  99,  99,  400,  99,  99],\n",
    "#      [99,  99,  99,  435,  99,  99,  450,  99,  99,  99],\n",
    "#      [99,  99,  99,  99,  413,  42,  99,  99,  99,  99]]"
   ]
  }
 ],
 "metadata": {
  "kernelspec": {
   "display_name": "Python 3",
   "language": "python",
   "name": "python3"
  },
  "language_info": {
   "codemirror_mode": {
    "name": "ipython",
    "version": 3
   },
   "file_extension": ".py",
   "mimetype": "text/x-python",
   "name": "python",
   "nbconvert_exporter": "python",
   "pygments_lexer": "ipython3",
   "version": "3.7.3"
  }
 },
 "nbformat": 4,
 "nbformat_minor": 2
}
