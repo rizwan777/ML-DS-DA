{
 "cells": [
  {
   "cell_type": "markdown",
   "metadata": {},
   "source": [
    "### <center> lets create simple Perceptron</center>"
   ]
  },
  {
   "cell_type": "code",
   "execution_count": 1,
   "metadata": {},
   "outputs": [],
   "source": [
    "import tensorflow as tf\n",
    "import numpy as np"
   ]
  },
  {
   "cell_type": "code",
   "execution_count": 2,
   "metadata": {},
   "outputs": [
    {
     "data": {
      "text/plain": [
       "array([[43.89504766, 39.99022969, 72.05540006, 64.96774127, 47.79514752],\n",
       "       [61.94196349, 75.7263439 , 14.5719404 , 21.32010599, 96.42101125],\n",
       "       [20.16164235, 95.66592147, 49.9246972 , 43.79407931, 84.3409402 ],\n",
       "       [26.00075331, 16.15856705, 46.50424337, 74.26988803, 84.34729898],\n",
       "       [28.06444513, 22.97945093, 48.90900706,  0.74604547, 14.77569731]])"
      ]
     },
     "execution_count": 2,
     "metadata": {},
     "output_type": "execute_result"
    }
   ],
   "source": [
    "a_data = np.random.uniform(0,100,(5,5))\n",
    "a_data"
   ]
  },
  {
   "cell_type": "code",
   "execution_count": 4,
   "metadata": {},
   "outputs": [
    {
     "data": {
      "text/plain": [
       "array([[73.92788139],\n",
       "       [ 1.16059505],\n",
       "       [87.59527367],\n",
       "       [23.54613259],\n",
       "       [ 4.88250966]])"
      ]
     },
     "execution_count": 4,
     "metadata": {},
     "output_type": "execute_result"
    }
   ],
   "source": [
    "b_data = np.random.uniform(0,100,(5,1))\n",
    "b_data"
   ]
  },
  {
   "cell_type": "code",
   "execution_count": 6,
   "metadata": {},
   "outputs": [
    {
     "name": "stdout",
     "output_type": "stream",
     "text": [
      "[[3.24506763e+03 2.95639282e+03 5.32690283e+03 4.80292725e+03\n",
      "  3.53339380e+03]\n",
      " [7.18895340e+01 8.78876190e+01 1.69121227e+01 2.47440109e+01\n",
      "  1.11905754e+02]\n",
      " [1.76606458e+03 8.37988281e+03 4.37316748e+03 3.83615430e+03\n",
      "  7.38786816e+03]\n",
      " [6.12217224e+02 3.80471771e+02 1.09499512e+03 1.74876868e+03\n",
      "  1.98605273e+03]\n",
      " [1.37024933e+02 1.12197388e+02 2.38798706e+02 3.64257431e+00\n",
      "  7.21424866e+01]]\n"
     ]
    }
   ],
   "source": [
    "# variables adding at runtime. so we use here placeholder\n",
    "a = tf.placeholder(tf.float32)\n",
    "b = tf.placeholder(tf.float32)\n",
    "\n",
    "# create model or simple operation we perform \n",
    "c = a*b\n",
    "\n",
    "init = tf.global_variables_initializer()\n",
    "with tf.Session() as sess:\n",
    "    sess.run(init)\n",
    "    print(sess.run(c,{a:a_data,b:b_data}))\n",
    "    "
   ]
  },
  {
   "cell_type": "code",
   "execution_count": null,
   "metadata": {},
   "outputs": [],
   "source": []
  }
 ],
 "metadata": {
  "kernelspec": {
   "display_name": "Python 3",
   "language": "python",
   "name": "python3"
  },
  "language_info": {
   "codemirror_mode": {
    "name": "ipython",
    "version": 3
   },
   "file_extension": ".py",
   "mimetype": "text/x-python",
   "name": "python",
   "nbconvert_exporter": "python",
   "pygments_lexer": "ipython3",
   "version": "3.6.7"
  }
 },
 "nbformat": 4,
 "nbformat_minor": 2
}
