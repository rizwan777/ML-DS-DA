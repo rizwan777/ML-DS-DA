{
 "cells": [
  {
   "cell_type": "markdown",
   "metadata": {},
   "source": [
    "### <center> lets create first our Neural Network</center>"
   ]
  },
  {
   "cell_type": "code",
   "execution_count": 2,
   "metadata": {},
   "outputs": [],
   "source": [
    "import tensorflow as tf\n",
    "import numpy as np"
   ]
  },
  {
   "cell_type": "code",
   "execution_count": 3,
   "metadata": {},
   "outputs": [],
   "source": [
    "n_fetures = 10  # this is fetures for example regarding house its fetues like kitchen_area,livingroom,no_Of_badrooms,etc.\n",
    "n_dence_neuron = 3  # this is no of neurones in each layer here 3 neurones"
   ]
  },
  {
   "cell_type": "code",
   "execution_count": 4,
   "metadata": {},
   "outputs": [
    {
     "data": {
      "text/plain": [
       "TensorShape([Dimension(None), Dimension(10)])"
      ]
     },
     "execution_count": 4,
     "metadata": {},
     "output_type": "execute_result"
    }
   ],
   "source": [
    "x = tf.placeholder(tf.float32,(None,n_fetures))\n",
    "x.shape\n",
    "# here we dont know about our inputs now so \"NONE\"  and second value need to pass fetures."
   ]
  },
  {
   "cell_type": "code",
   "execution_count": 5,
   "metadata": {},
   "outputs": [
    {
     "name": "stdout",
     "output_type": "stream",
     "text": [
      "WARNING:tensorflow:From d:\\pyworkdevlopment\\venvmachine\\lib\\site-packages\\tensorflow\\python\\framework\\op_def_library.py:263: colocate_with (from tensorflow.python.framework.ops) is deprecated and will be removed in a future version.\n",
      "Instructions for updating:\n",
      "Colocations handled automatically by placer.\n",
      "(3,) (10, 3) (?, 10)\n"
     ]
    }
   ],
   "source": [
    "# lets create our inputs for NN.\n",
    "bieas = tf.Variable(tf.zeros([n_dence_neuron])) # no of bieas is must be equalls to no of neurons.\n",
    "weight = tf.Variable(tf.random_normal([n_fetures,n_dence_neuron]))  # its all depends on--> no of features , no of neurons \n",
    "print(bieas.shape, weight.shape, x.shape) # lets check matrix size over here."
   ]
  },
  {
   "cell_type": "code",
   "execution_count": 6,
   "metadata": {},
   "outputs": [
    {
     "data": {
      "text/plain": [
       "TensorShape([Dimension(None), Dimension(3)])"
      ]
     },
     "execution_count": 6,
     "metadata": {},
     "output_type": "execute_result"
    }
   ],
   "source": [
    "# lets constructs our linear model\n",
    "# Y = weight * x + bieas\n",
    "mm = tf.matmul(x,weight)\n",
    "Y = tf.add(mm,bieas)\n",
    "# Y = tf.add(tf.matmul(x,weight),bieas)  # this is also another way to do calculation.\n",
    "mm.shape"
   ]
  },
  {
   "cell_type": "code",
   "execution_count": 7,
   "metadata": {},
   "outputs": [],
   "source": [
    "# y = tf.add(mm,bieas)"
   ]
  },
  {
   "cell_type": "code",
   "execution_count": 8,
   "metadata": {},
   "outputs": [],
   "source": [
    "activation_func = tf.sigmoid(Y)"
   ]
  },
  {
   "cell_type": "code",
   "execution_count": 9,
   "metadata": {},
   "outputs": [
    {
     "data": {
      "text/plain": [
       "array([[0.80856069, 0.69602011, 0.53811329, 0.25511814, 0.89258105,\n",
       "        0.26296379, 0.17045474, 0.93923097, 0.19154293, 0.62945946]])"
      ]
     },
     "execution_count": 9,
     "metadata": {},
     "output_type": "execute_result"
    }
   ],
   "source": [
    "init = tf.global_variables_initializer()\n",
    "x_data = np.random.random([1,n_fetures])  # here we generate 3x10 matrix for feeding for operation.\n",
    "x_data"
   ]
  },
  {
   "cell_type": "code",
   "execution_count": 10,
   "metadata": {},
   "outputs": [],
   "source": [
    "with tf.Session() as sess:\n",
    "    sess.run(init)\n",
    "    layerOP=sess.run(activation_func,{x:x_data})"
   ]
  },
  {
   "cell_type": "code",
   "execution_count": 11,
   "metadata": {},
   "outputs": [
    {
     "name": "stdout",
     "output_type": "stream",
     "text": [
      "[[0.20376363 0.8979198  0.94513714]]\n"
     ]
    }
   ],
   "source": [
    "print(layerOP)"
   ]
  },
  {
   "cell_type": "code",
   "execution_count": null,
   "metadata": {},
   "outputs": [],
   "source": [
    "# be careful :\n",
    "# always carefull while seeding inputs or doing any operation.\n",
    "# 1st dimension are more important while you facing any eroor. just check with \"shape\" to know exact rows and coulmns.\n",
    "# 2nd if you really dont know about how MatrixMultiplication works then just checkout through wikipedia or youtube video.\n",
    "# 3rd in matrix multipication its very important sequence \n",
    "# 4th for ex : matrix(a) size is 3*3 and matrix(b) size is 3*2.\n",
    "# so here. (a * b)matrix multiplication is possible but (b * a) is not possible.\n",
    "# Output is equalls to No of Neurones we use. here we used 3 NN check about \"n_dence_neuron\""
   ]
  }
 ],
 "metadata": {
  "kernelspec": {
   "display_name": "Python 3",
   "language": "python",
   "name": "python3"
  },
  "language_info": {
   "codemirror_mode": {
    "name": "ipython",
    "version": 3
   },
   "file_extension": ".py",
   "mimetype": "text/x-python",
   "name": "python",
   "nbconvert_exporter": "python",
   "pygments_lexer": "ipython3",
   "version": "3.6.7"
  }
 },
 "nbformat": 4,
 "nbformat_minor": 2
}
