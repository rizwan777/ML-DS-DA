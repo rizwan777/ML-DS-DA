{
 "cells": [
  {
   "cell_type": "code",
   "execution_count": 60,
   "metadata": {},
   "outputs": [],
   "source": [
    "import tensorflow as tf"
   ]
  },
  {
   "cell_type": "markdown",
   "metadata": {},
   "source": [
    "### this is constant declaration while we know the inputs"
   ]
  },
  {
   "cell_type": "code",
   "execution_count": 17,
   "metadata": {},
   "outputs": [],
   "source": [
    "# constant Declaration \n",
    "x= tf.constant([4],tf.int32)  # here we already declare constant value with its type\n",
    "y= tf.constant([78,28,49])\n",
    "\n",
    "c = tf.multiply(x,y) # this is our operation"
   ]
  },
  {
   "cell_type": "code",
   "execution_count": 18,
   "metadata": {},
   "outputs": [
    {
     "name": "stdout",
     "output_type": "stream",
     "text": [
      "[312 112 196]\n"
     ]
    }
   ],
   "source": [
    "with tf.Session() as s :      # this is 1 method session will start and close automatically with loop execute\n",
    "    op=s.run(c)\n",
    "    print(op)"
   ]
  },
  {
   "cell_type": "code",
   "execution_count": 20,
   "metadata": {},
   "outputs": [
    {
     "name": "stdout",
     "output_type": "stream",
     "text": [
      "[312 112 196]\n"
     ]
    }
   ],
   "source": [
    "s = tf.Session()     # this is another way to start session\n",
    "a =s.run(c)\n",
    "print(a)\n",
    "s.close()     # this we need to close to stop the further operation."
   ]
  },
  {
   "cell_type": "markdown",
   "metadata": {},
   "source": [
    "### this is placeholder declaration while we dont know the inputs"
   ]
  },
  {
   "cell_type": "code",
   "execution_count": 21,
   "metadata": {},
   "outputs": [],
   "source": [
    "# sometimes such situation like we only know the input type but we dont know the acutal input .\n",
    "# to handle this kind of opearation we just generally define the data type only."
   ]
  },
  {
   "cell_type": "code",
   "execution_count": 72,
   "metadata": {},
   "outputs": [
    {
     "name": "stdout",
     "output_type": "stream",
     "text": [
      "[6 7 9]\n"
     ]
    }
   ],
   "source": [
    "x= tf.placeholder(tf.int32)\n",
    "y= tf.placeholder(tf.int32)\n",
    "\n",
    "c = tf.add(x,y)\n",
    "\n",
    "with tf.Session() as s:\n",
    "    op = s.run(c,{x:[1,4,2],y:[5,3,7]}) # here we are feeding our x,y values at run time.\n",
    "    print(op)\n",
    "    "
   ]
  },
  {
   "cell_type": "markdown",
   "metadata": {},
   "source": [
    "### this is Variable declaration. it useful  while we  perform the operation it  will change its values"
   ]
  },
  {
   "cell_type": "code",
   "execution_count": 73,
   "metadata": {},
   "outputs": [],
   "source": [
    "# Variable is bascially define with the initial values but we want to manipulate it while performing the opeartions.\n",
    "# in this kind of situation Variable  are vary useful. it allows to modify or change the initial values"
   ]
  },
  {
   "cell_type": "code",
   "execution_count": 74,
   "metadata": {},
   "outputs": [
    {
     "name": "stdout",
     "output_type": "stream",
     "text": [
      "[1. 6. 2.]\n"
     ]
    }
   ],
   "source": [
    "x= tf.Variable([37,42,48])\n",
    "y= tf.Variable([37,7,24])\n",
    "c= x/y\n",
    "init= tf.global_variables_initializer()\n",
    "sess = tf.Session()\n",
    "sess.run(init)\n",
    "print(sess.run(c))\n",
    "# with tf.Session() as sess:\n",
    "#     sess.run(init)\n",
    "#     result = sess.run(c)\n",
    "#     print(result)\n"
   ]
  },
  {
   "cell_type": "code",
   "execution_count": 75,
   "metadata": {},
   "outputs": [
    {
     "name": "stdout",
     "output_type": "stream",
     "text": [
      "[ 4205.52 38705.04]\n"
     ]
    }
   ],
   "source": [
    "a = tf.constant([47.2,434.4])\n",
    "b = tf.constant([89.1])\n",
    "x= a*b\n",
    "sess= tf.Session()\n",
    "print(sess.run(x))\n",
    "sess.close()"
   ]
  },
  {
   "cell_type": "markdown",
   "metadata": {},
   "source": [
    "###  Linear Regression Bigginers Steps"
   ]
  },
  {
   "cell_type": "code",
   "execution_count": 89,
   "metadata": {},
   "outputs": [
    {
     "name": "stdout",
     "output_type": "stream",
     "text": [
      "[27.4 44.9 11.9 17.4]\n"
     ]
    }
   ],
   "source": [
    "# Y = b + w*x\n",
    "w = tf.Variable([.5], tf.float32)\n",
    "b = tf.Variable([.4], tf.float32)\n",
    "x = tf.placeholder(tf.float32)\n",
    "\n",
    "model = w*x + b\n",
    "\n",
    "init = tf.global_variables_initializer()\n",
    "with tf.Session() as sess:\n",
    "    sess.run(init)\n",
    "    print(sess.run(model,{x:[54,89,23,34]}))\n",
    "    "
   ]
  },
  {
   "cell_type": "markdown",
   "metadata": {},
   "source": [
    "### Activation Functions [ important]\n",
    "#### 1. Liner   ==>  f(x) =x     same value return from the function\n",
    "#### 2. Unit Step   ==>  f(x) = { if x> 5 : 0 else 1}  this is something like  threshould (condition) here 5 is threshould\n",
    "#### 3. Sigmoid   ==>  f(x) = {1/ 1+e ^bx} this function returns values between 0 to 1\n",
    "#### 4. Tanh   ==>  f(x) = tanh(x)   this function returns values between -1 to 1\n",
    "#### 5. Relu   ==>  f(x) = { if x>0 : x else 0} it means negative values become 0 and positive is same\n",
    "#### 6. Softmax   ==>  f(x)  this func. is  useful to finding the the maximum probability\n"
   ]
  },
  {
   "cell_type": "markdown",
   "metadata": {},
   "source": [
    "### Loss Function\n",
    "#### this function will helpful while we need to calcualte the total loss during the operation."
   ]
  },
  {
   "cell_type": "code",
   "execution_count": 124,
   "metadata": {},
   "outputs": [
    {
     "name": "stdout",
     "output_type": "stream",
     "text": [
      "[0.         0.3        0.6        0.90000004]\n"
     ]
    }
   ],
   "source": [
    "### this is normal regural linear model \n",
    "import tensorflow as tf\n",
    "W = tf.constant([.3],tf.float32)\n",
    "b = tf.constant([-.3],tf.float32)\n",
    "x = tf.placeholder(tf.float32)\n",
    "x = tf.placeholder(tf.float32)\n",
    "linear_model = W * x + b\n",
    "\n",
    "init = tf.global_variables_initializer()\n",
    "with tf.Session() as sess:\n",
    "    sess.run(init)\n",
    "    print(sess.run(linear_model,{x:[1,2,3,4]}))\n",
    "    "
   ]
  },
  {
   "cell_type": "code",
   "execution_count": 126,
   "metadata": {},
   "outputs": [
    {
     "name": "stdout",
     "output_type": "stream",
     "text": [
      "5.0599995\n"
     ]
    }
   ],
   "source": [
    "### this is extended to calculate the lost/cost function in linear_model operation.\n",
    "import tensorflow as tf\n",
    "W = tf.Variable([.3],tf.float32)\n",
    "b = tf.Variable([-.3],tf.float32) \n",
    "x = tf.placeholder(tf.float32)\n",
    "y = tf.placeholder(tf.float32)\n",
    "linear_model = W * x + b\n",
    "sigmoid_fun = tf.square(linear_model - y)        # here we are squaring the sigmoid\n",
    "loss = tf.reduce_sum(sigmoid_fun)     # we apply to optimize the sum for reducing loss\n",
    "\n",
    "init = tf.global_variables_initializer()\n",
    "with tf.Session() as sess:\n",
    "    sess.run(init)\n",
    "    print(sess.run(loss,{x:[1,2,3,4],y:[0,1,1,3]}))  # here we applied our variables on loss function.\n",
    "    ## here its sum all the loss and print o/p"
   ]
  },
  {
   "cell_type": "markdown",
   "metadata": {},
   "source": [
    "### Model Optimizer"
   ]
  },
  {
   "cell_type": "code",
   "execution_count": 105,
   "metadata": {},
   "outputs": [],
   "source": [
    "# steps to perform\n",
    "# 1. Normal construst the model(Function) Here {liner function we are using for batter understanding}\n",
    "# 2. Apply loss/cost function on our model(linear function) it..!! same like above we dont \n",
    "# 3. Then apply optimization function  on the {loss} function..!! to get optimal results"
   ]
  },
  {
   "cell_type": "code",
   "execution_count": 151,
   "metadata": {},
   "outputs": [
    {
     "name": "stdout",
     "output_type": "stream",
     "text": [
      "None\n",
      "None\n",
      "None\n"
     ]
    }
   ],
   "source": [
    "import tensorflow as tf\n",
    "W = tf.Variable([.1],tf.float32)\n",
    "b = tf.Variable([.3],tf.float32)\n",
    "x = tf.placeholder(tf.float32)\n",
    "y = tf.placeholder(tf.float32)\n",
    "\n",
    "linear_model = W * x + b\n",
    "\n",
    "_SigmoidFun = tf.square(linear_model - y)\n",
    "loss = tf.reduce_sum(_SigmoidFun)\n",
    "\n",
    "# lets add optimizer on loss\n",
    "optimizer = tf.train.GradientDescentOptimizer(0.01)\n",
    "# optimizer = tf.train.GradientDescentOptimizer(0.01).minimize(loss)\n",
    "\n",
    "train = optimizer.minimize(loss)\n",
    "\n",
    "init = tf.global_variables_initializer()\n",
    "with tf.Session() as sess:\n",
    "    sess.run(init)\n",
    "    for i in range(3):\n",
    "        print(sess.run(train,{x:[3,1,4,8],y:[0.,1,2,3]}))\n"
   ]
  },
  {
   "cell_type": "code",
   "execution_count": 168,
   "metadata": {},
   "outputs": [
    {
     "name": "stdout",
     "output_type": "stream",
     "text": [
      "name: \"GradientDescent_47\"\n",
      "op: \"NoOp\"\n",
      "input: \"^GradientDescent_47/update_Variable_194/ApplyGradientDescent\"\n",
      "input: \"^GradientDescent_47/update_Variable_195/ApplyGradientDescent\"\n",
      "\n",
      "name: \"GradientDescent_47\"\n",
      "op: \"NoOp\"\n",
      "input: \"^GradientDescent_47/update_Variable_194/ApplyGradientDescent\"\n",
      "input: \"^GradientDescent_47/update_Variable_195/ApplyGradientDescent\"\n",
      "\n",
      "name: \"GradientDescent_47\"\n",
      "op: \"NoOp\"\n",
      "input: \"^GradientDescent_47/update_Variable_194/ApplyGradientDescent\"\n",
      "input: \"^GradientDescent_47/update_Variable_195/ApplyGradientDescent\"\n",
      "\n"
     ]
    }
   ],
   "source": [
    "### this is extended to calculate the lost/cost function in linear_model operation.\n",
    "import tensorflow as tf\n",
    "W = tf.Variable([.3],tf.float32)\n",
    "b = tf.Variable([-.3],tf.float32) \n",
    "x = tf.placeholder(tf.float32)\n",
    "y = tf.placeholder(tf.float32)\n",
    "linear_model = W * x + b\n",
    "sigmoid_fun = tf.square(linear_model - y) \n",
    "# here we are squaring the sigmoid\n",
    "loss = tf.reduce_sum(sigmoid_fun)     # we apply to optimize the sum for reducing loss\n",
    "optimizer = tf.train.GradientDescentOptimizer(0.01).minimize(loss)\n",
    "\n",
    "init = tf.global_variables_initializer()\n",
    "with tf.Session() as sess:\n",
    "    sess.run(init)\n",
    "    for i in range(3):\n",
    "        print(optimizer)\n",
    "\n",
    "#         print(sess.run(sigmoid_fun,{x:[1,2,3,4],y:[0,1,1,3]}))  # here we applied our variables on loss function.\n",
    "    ## here its sum all the loss and print o/p"
   ]
  }
 ],
 "metadata": {
  "kernelspec": {
   "display_name": "Python 3",
   "language": "python",
   "name": "python3"
  },
  "language_info": {
   "codemirror_mode": {
    "name": "ipython",
    "version": 3
   },
   "file_extension": ".py",
   "mimetype": "text/x-python",
   "name": "python",
   "nbconvert_exporter": "python",
   "pygments_lexer": "ipython3",
   "version": "3.6.7"
  }
 },
 "nbformat": 4,
 "nbformat_minor": 2
}
