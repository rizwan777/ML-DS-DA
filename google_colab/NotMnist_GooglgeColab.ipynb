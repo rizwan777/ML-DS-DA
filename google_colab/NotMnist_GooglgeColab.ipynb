{
 "cells": [
  {
   "cell_type": "markdown",
   "metadata": {
    "colab_type": "text",
    "id": "xx4DQPda15Hc"
   },
   "source": [
    "# This is Alphabates Prediction From (A-J) respect to (0-9) numbers.\n",
    "\n",
    "\n",
    "*   here, I have traied 112 images for each and every alphabate.\n",
    "*   This is not Mnist data set.\n",
    "\n"
   ]
  },
  {
   "cell_type": "code",
   "execution_count": 0,
   "metadata": {
    "colab": {},
    "colab_type": "code",
    "id": "4NV9XYmw2sFT"
   },
   "outputs": [],
   "source": [
    "from google.colab import drive\n",
    "drive.mount('/content/drive')"
   ]
  },
  {
   "cell_type": "code",
   "execution_count": 0,
   "metadata": {
    "colab": {},
    "colab_type": "code",
    "id": "rl-96BkgBwJe"
   },
   "outputs": [],
   "source": [
    "import matplotlib.pyplot as plt\n",
    "import tensorflow as tf\n",
    "import numpy as np\n",
    "import cv2\n",
    "import pickle"
   ]
  },
  {
   "cell_type": "code",
   "execution_count": 0,
   "metadata": {
    "colab": {},
    "colab_type": "code",
    "id": "4ApLzn3RAYW2"
   },
   "outputs": [],
   "source": [
    "# i all ready cleaned my data so i just load it back\n",
    "# if you dont know how then check out my 0-9 number prediction file in same folder.\n",
    "X_features = pickle.load(open(\"/content/drive/My Drive/GPU_DeepLearningWork/DeepLearning_GPU_Work/NotMnist_filterd_data/X_features.pickle\",\"rb\"))\n",
    "Y_labels = pickle.load(open(\"/content/drive/My Drive/GPU_DeepLearningWork/DeepLearning_GPU_Work/NotMnist_filterd_data/Y_labels.pickle\",\"rb\"))"
   ]
  },
  {
   "cell_type": "code",
   "execution_count": 8,
   "metadata": {
    "colab": {
     "base_uri": "https://localhost:8080/",
     "height": 136
    },
    "colab_type": "code",
    "executionInfo": {
     "elapsed": 1394,
     "status": "ok",
     "timestamp": 1565144626042,
     "user": {
      "displayName": "Aarab Rizwan",
      "photoUrl": "https://lh4.googleusercontent.com/-k5zQBH9fFao/AAAAAAAAAAI/AAAAAAAAFRM/XjgwJvN-dNs/s64/photo.jpg",
      "userId": "18211600443977406185"
     },
     "user_tz": -480
    },
    "id": "M_zvBmRCAlTm",
    "outputId": "62e69ad7-43d0-493b-a19f-d456fecd8b43"
   },
   "outputs": [
    {
     "data": {
      "text/plain": [
       "(1120, 1120, array([[163, 163, 181, ...,   0,   0,   0],\n",
       "        [163, 163, 181, ...,   0,   0,   0],\n",
       "        [134, 134, 150, ...,   0,   0,   0],\n",
       "        ...,\n",
       "        [145, 145, 158, ...,   0,   0,   0],\n",
       "        [176, 176, 192, ...,   0,   0,   0],\n",
       "        [176, 176, 192, ...,   0,   0,   0]], dtype=uint8), 5)"
      ]
     },
     "execution_count": 8,
     "metadata": {
      "tags": []
     },
     "output_type": "execute_result"
    }
   ],
   "source": [
    "len(X_features), len(Y_labels), X_features[10],Y_labels[10]"
   ]
  },
  {
   "cell_type": "code",
   "execution_count": 9,
   "metadata": {
    "colab": {
     "base_uri": "https://localhost:8080/",
     "height": 269
    },
    "colab_type": "code",
    "executionInfo": {
     "elapsed": 1133,
     "status": "ok",
     "timestamp": 1565144628802,
     "user": {
      "displayName": "Aarab Rizwan",
      "photoUrl": "https://lh4.googleusercontent.com/-k5zQBH9fFao/AAAAAAAAAAI/AAAAAAAAFRM/XjgwJvN-dNs/s64/photo.jpg",
      "userId": "18211600443977406185"
     },
     "user_tz": -480
    },
    "id": "aFqFE9NaAxpu",
    "outputId": "99f4b996-ebe7-43ae-8feb-834d2d1aa8d6"
   },
   "outputs": [
    {
     "data": {
      "image/png": "[encoded data removed]",
      "text/plain": [
       "<Figure size 432x288 with 1 Axes>"
      ]
     },
     "metadata": {
      "tags": []
     },
     "output_type": "display_data"
    }
   ],
   "source": [
    "plt.imshow(X_features[10],cmap=\"binary\")\n",
    "plt.show()\n",
    "# yeah features of array with label match correctly .. here [A-J] match with[0-9]"
   ]
  },
  {
   "cell_type": "code",
   "execution_count": 10,
   "metadata": {
    "colab": {
     "base_uri": "https://localhost:8080/",
     "height": 34
    },
    "colab_type": "code",
    "executionInfo": {
     "elapsed": 1243,
     "status": "ok",
     "timestamp": 1565144665709,
     "user": {
      "displayName": "Aarab Rizwan",
      "photoUrl": "https://lh4.googleusercontent.com/-k5zQBH9fFao/AAAAAAAAAAI/AAAAAAAAFRM/XjgwJvN-dNs/s64/photo.jpg",
      "userId": "18211600443977406185"
     },
     "user_tz": -480
    },
    "id": "nrUGYyT5BBAL",
    "outputId": "c008f988-6023-48bf-d895-057e0398aa91"
   },
   "outputs": [
    {
     "data": {
      "text/plain": [
       "((1120, 100, 100, 1), (1120,))"
      ]
     },
     "execution_count": 10,
     "metadata": {
      "tags": []
     },
     "output_type": "execute_result"
    }
   ],
   "source": [
    "X_features = np.array(X_features).reshape(-1,100,100,1) \n",
    "# we need to pass again three args overhear also otherwise its just make it single vector array.\n",
    "Y_labels = np.array(Y_labels).reshape(-1)\n",
    "X_features.shape, Y_labels.shape"
   ]
  },
  {
   "cell_type": "code",
   "execution_count": 0,
   "metadata": {
    "colab": {},
    "colab_type": "code",
    "id": "ybrJ08D_CBo-"
   },
   "outputs": [],
   "source": [
    "gpu_options = tf.GPUOptions(per_process_gpu_memory_fraction=0.5)\n",
    "sess = tf.Session(config = tf.ConfigProto(gpu_options=gpu_options))\n",
    "# normalization of data for easy to calculations.\n",
    "X_features = X_features/255.0"
   ]
  },
  {
   "cell_type": "code",
   "execution_count": 12,
   "metadata": {
    "colab": {
     "base_uri": "https://localhost:8080/",
     "height": 309
    },
    "colab_type": "code",
    "executionInfo": {
     "elapsed": 165921,
     "status": "ok",
     "timestamp": 1565144838808,
     "user": {
      "displayName": "Aarab Rizwan",
      "photoUrl": "https://lh4.googleusercontent.com/-k5zQBH9fFao/AAAAAAAAAAI/AAAAAAAAFRM/XjgwJvN-dNs/s64/photo.jpg",
      "userId": "18211600443977406185"
     },
     "user_tz": -480
    },
    "id": "XGS4579dCGoG",
    "outputId": "4ce48c0d-52f2-4ce2-9926-801722988a46"
   },
   "outputs": [
    {
     "name": "stderr",
     "output_type": "stream",
     "text": [
      "WARNING: Logging before flag parsing goes to stderr.\n",
      "W0807 02:24:35.498045 140102887655296 deprecation.py:506] From /usr/local/lib/python3.6/dist-packages/tensorflow/python/ops/init_ops.py:1251: calling VarianceScaling.__init__ (from tensorflow.python.ops.init_ops) with dtype is deprecated and will be removed in a future version.\n",
      "Instructions for updating:\n",
      "Call initializer instance with the dtype argument instead of passing it to the constructor\n"
     ]
    },
    {
     "name": "stdout",
     "output_type": "stream",
     "text": [
      "Train on 784 samples, validate on 336 samples\n",
      "Epoch 1/5\n",
      "784/784 [==============================] - 33s 42ms/sample - loss: 1.5635 - acc: 0.4528 - val_loss: 1.3440 - val_acc: 0.6637\n",
      "Epoch 2/5\n",
      "784/784 [==============================] - 33s 42ms/sample - loss: 0.8348 - acc: 0.7602 - val_loss: 1.1466 - val_acc: 0.7381\n",
      "Epoch 3/5\n",
      "784/784 [==============================] - 32s 41ms/sample - loss: 0.6312 - acc: 0.8138 - val_loss: 1.1356 - val_acc: 0.7440\n",
      "Epoch 4/5\n",
      "784/784 [==============================] - 33s 42ms/sample - loss: 0.5180 - acc: 0.8622 - val_loss: 1.0185 - val_acc: 0.7798\n",
      "Epoch 5/5\n",
      "784/784 [==============================] - 32s 41ms/sample - loss: 0.3937 - acc: 0.8878 - val_loss: 0.9935 - val_acc: 0.7798\n"
     ]
    },
    {
     "data": {
      "text/plain": [
       "<tensorflow.python.keras.callbacks.History at 0x7f6bf5aff7f0>"
      ]
     },
     "execution_count": 12,
     "metadata": {
      "tags": []
     },
     "output_type": "execute_result"
    }
   ],
   "source": [
    "# i dont want to run and test now its take time to train the data.\n",
    "from tensorflow.keras.models import Sequential\n",
    "from tensorflow.keras.layers import Dense,Conv2D,Activation,MaxPool2D,Dropout,Flatten\n",
    "model = Sequential()\n",
    "model.add(Conv2D(64,(3,3),input_shape=X_features.shape[1:]))\n",
    "model.add(Activation('tanh'))\n",
    "model.add(MaxPool2D(pool_size=(2,2)))\n",
    "model.add(Conv2D(128,(3,3)))\n",
    "model.add(Activation('tanh'))\n",
    "model.add(MaxPool2D(pool_size=(2,2)))\n",
    "model.add(Conv2D(128,(3,3)))\n",
    "model.add(Activation('tanh'))\n",
    "model.add(MaxPool2D(pool_size=(2,2)))\n",
    "model.add(Dense(64))\n",
    "model.add(Activation('tanh'))\n",
    "model.add(Flatten())\n",
    "model.add(Dense(10))\n",
    "model.add(Activation('softmax'))\n",
    "model.compile(loss=\"sparse_categorical_crossentropy\",optimizer=\"adam\",metrics=['accuracy'])\n",
    "model.fit(X_features,Y_labels,batch_size=64,epochs=5,validation_split=0.3)"
   ]
  },
  {
   "cell_type": "code",
   "execution_count": 13,
   "metadata": {
    "colab": {
     "base_uri": "https://localhost:8080/",
     "height": 255
    },
    "colab_type": "code",
    "executionInfo": {
     "elapsed": 11652,
     "status": "ok",
     "timestamp": 1565144865636,
     "user": {
      "displayName": "Aarab Rizwan",
      "photoUrl": "https://lh4.googleusercontent.com/-k5zQBH9fFao/AAAAAAAAAAI/AAAAAAAAFRM/XjgwJvN-dNs/s64/photo.jpg",
      "userId": "18211600443977406185"
     },
     "user_tz": -480
    },
    "id": "2bT5lxZ6D0yO",
    "outputId": "45a3d068-c717-4622-ce5f-8e8497d79ca0"
   },
   "outputs": [
    {
     "data": {
      "text/plain": [
       "(array([[8.94167984e-04, 2.39499416e-02, 5.47315634e-04, ...,\n",
       "         9.51054811e-01, 2.04308701e-04, 1.08908120e-04],\n",
       "        [2.87993753e-04, 5.91003954e-05, 3.04318120e-04, ...,\n",
       "         7.29787280e-06, 8.62301230e-01, 9.68222395e-02],\n",
       "        [2.15290399e-07, 1.46909922e-04, 4.69910941e-04, ...,\n",
       "         3.83775978e-06, 3.60824494e-03, 5.07948755e-07],\n",
       "        ...,\n",
       "        [4.44210172e-02, 1.14514224e-01, 1.14187773e-04, ...,\n",
       "         2.65178345e-02, 6.32428467e-01, 6.65734038e-02],\n",
       "        [2.75125843e-04, 2.23538918e-05, 2.59970778e-09, ...,\n",
       "         7.26022620e-07, 2.20421643e-04, 9.99469221e-01],\n",
       "        [2.48322642e-04, 9.39437712e-04, 1.46850711e-03, ...,\n",
       "         2.37008557e-03, 9.39959282e-05, 2.15471751e-04]], dtype=float32),\n",
       " (1120, 10))"
      ]
     },
     "execution_count": 13,
     "metadata": {
      "tags": []
     },
     "output_type": "execute_result"
    }
   ],
   "source": [
    "predict = model.predict([X_features])\n",
    "predict, predict.shape"
   ]
  },
  {
   "cell_type": "code",
   "execution_count": 20,
   "metadata": {
    "colab": {
     "base_uri": "https://localhost:8080/",
     "height": 34
    },
    "colab_type": "code",
    "executionInfo": {
     "elapsed": 1089,
     "status": "ok",
     "timestamp": 1565144992686,
     "user": {
      "displayName": "Aarab Rizwan",
      "photoUrl": "https://lh4.googleusercontent.com/-k5zQBH9fFao/AAAAAAAAAAI/AAAAAAAAFRM/XjgwJvN-dNs/s64/photo.jpg",
      "userId": "18211600443977406185"
     },
     "user_tz": -480
    },
    "id": "Gbwi15CJEySI",
    "outputId": "6bdd3e7d-a490-40a0-e941-9ca1d88fceba"
   },
   "outputs": [
    {
     "data": {
      "text/plain": [
       "4"
      ]
     },
     "execution_count": 20,
     "metadata": {
      "tags": []
     },
     "output_type": "execute_result"
    }
   ],
   "source": [
    "np.argmax(predict[68])  # lets test any number from the Prediction is accurate or not"
   ]
  },
  {
   "cell_type": "code",
   "execution_count": 21,
   "metadata": {
    "colab": {
     "base_uri": "https://localhost:8080/",
     "height": 269
    },
    "colab_type": "code",
    "executionInfo": {
     "elapsed": 1169,
     "status": "ok",
     "timestamp": 1565144997476,
     "user": {
      "displayName": "Aarab Rizwan",
      "photoUrl": "https://lh4.googleusercontent.com/-k5zQBH9fFao/AAAAAAAAAAI/AAAAAAAAFRM/XjgwJvN-dNs/s64/photo.jpg",
      "userId": "18211600443977406185"
     },
     "user_tz": -480
    },
    "id": "5QQamSsIo6fN",
    "outputId": "17737245-2bcd-46c2-c7ef-5d343034d3ff"
   },
   "outputs": [
    {
     "data": {
      "image/png": "[encoded data removed]",
      "text/plain": [
       "<Figure size 432x288 with 1 Axes>"
      ]
     },
     "metadata": {
      "tags": []
     },
     "output_type": "display_data"
    }
   ],
   "source": [
    "plt.imshow(np.squeeze(X_features[68]),cmap=\"binary\")\n",
    "plt.show()"
   ]
  },
  {
   "cell_type": "code",
   "execution_count": 0,
   "metadata": {
    "colab": {},
    "colab_type": "code",
    "id": "BboGHtA0sbcA"
   },
   "outputs": [],
   "source": []
  }
 ],
 "metadata": {
  "colab": {
   "collapsed_sections": [],
   "name": "NotMnistImg_A2J.ipynb",
   "provenance": [],
   "version": "0.3.2"
  },
  "kernelspec": {
   "display_name": "Python 3",
   "language": "python",
   "name": "python3"
  },
  "language_info": {
   "codemirror_mode": {
    "name": "ipython",
    "version": 3
   },
   "file_extension": ".py",
   "mimetype": "text/x-python",
   "name": "python",
   "nbconvert_exporter": "python",
   "pygments_lexer": "ipython3",
   "version": "3.6.7"
  }
 },
 "nbformat": 4,
 "nbformat_minor": 1
}
