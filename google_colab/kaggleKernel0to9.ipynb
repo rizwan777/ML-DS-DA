{
  "nbformat": 4,
  "nbformat_minor": 0,
  "metadata": {
    "colab": {
      "name": "kaggleKernel0to9.ipynb",
      "version": "0.3.2",
      "provenance": []
    },
    "kernelspec": {
      "name": "python3",
      "display_name": "Python 3"
    }
  },
  "cells": [
    {
      "cell_type": "markdown",
      "metadata": {
        "id": "xuPnr_NMPb8r",
        "colab_type": "text"
      },
      "source": [
        "# Number Prediction on MNIST dataset with CNN\n",
        "\n",
        "\n",
        "1.  Here i have already clean the data and used for model evaluation\n",
        "2.  Here in Sequential model we apply CNN arcitecture NN model.\n",
        "\n",
        "\n"
      ]
    },
    {
      "cell_type": "code",
      "metadata": {
        "id": "0K3o_oHwzJQ6",
        "colab_type": "code",
        "outputId": "ab7b81d2-fa6b-4906-ef9c-952e3cb3e6b0",
        "colab": {
          "base_uri": "https://localhost:8080/",
          "height": 121
        }
      },
      "source": [
        "from google.colab import drive\n",
        "drive.mount('/content/drive')"
      ],
      "execution_count": 0,
      "outputs": [
        {
          "output_type": "stream",
          "text": [
            "Go to this URL in a browser: https://accounts.google.com/o/oauth2/auth?client_id=947318989803-6bn6qk8qdgf4n4g3pfee6491hc0brc4i.apps.googleusercontent.com&redirect_uri=urn%3Aietf%3Awg%3Aoauth%3A2.0%3Aoob&scope=email%20https%3A%2F%2Fwww.googleapis.com%2Fauth%2Fdocs.test%20https%3A%2F%2Fwww.googleapis.com%2Fauth%2Fdrive%20https%3A%2F%2Fwww.googleapis.com%2Fauth%2Fdrive.photos.readonly%20https%3A%2F%2Fwww.googleapis.com%2Fauth%2Fpeopleapi.readonly&response_type=code\n",
            "\n",
            "Enter your authorization code:\n",
            "··········\n",
            "Mounted at /content/drive\n"
          ],
          "name": "stdout"
        }
      ]
    },
    {
      "cell_type": "markdown",
      "metadata": {
        "id": "mNYUvdEUQNwI",
        "colab_type": "text"
      },
      "source": [
        "# Already cleaned Data, i just need to load to memory"
      ]
    },
    {
      "cell_type": "code",
      "metadata": {
        "id": "kxqf1ZQPzdAN",
        "colab_type": "code",
        "colab": {}
      },
      "source": [
        "import pickle\n",
        "X_train=pickle.load(open(\"/content/drive/My Drive/GPU_DeepLearningWork/DeepLearning_GPU_Work/cleanData_1To9/X_train.pickle\",\"rb\"))\n",
        "Y_train=pickle.load(open(\"/content/drive/My Drive/GPU_DeepLearningWork/DeepLearning_GPU_Work/cleanData_1To9/Y_train.pickle\",\"rb\"))"
      ],
      "execution_count": 0,
      "outputs": []
    },
    {
      "cell_type": "code",
      "metadata": {
        "id": "WEILkd6S2piN",
        "colab_type": "code",
        "outputId": "bf7c5334-e191-4966-f053-76eeac47cddf",
        "colab": {
          "base_uri": "https://localhost:8080/",
          "height": 34
        }
      },
      "source": [
        "X_train.shape,Y_train.shape,len(X_train),len(Y_train)"
      ],
      "execution_count": 0,
      "outputs": [
        {
          "output_type": "execute_result",
          "data": {
            "text/plain": [
              "((42000, 28, 28, 1), (42000, 10), 42000, 42000)"
            ]
          },
          "metadata": {
            "tags": []
          },
          "execution_count": 3
        }
      ]
    },
    {
      "cell_type": "code",
      "metadata": {
        "id": "VPH1Pgtb2y38",
        "colab_type": "code",
        "colab": {}
      },
      "source": [
        "import matplotlib.pyplot as plt\n",
        "import numpy as np"
      ],
      "execution_count": 0,
      "outputs": []
    },
    {
      "cell_type": "code",
      "metadata": {
        "id": "hOOV9tEK29yO",
        "colab_type": "code",
        "outputId": "deab7ee0-7645-4a62-d423-044376d63532",
        "colab": {
          "base_uri": "https://localhost:8080/",
          "height": 454
        }
      },
      "source": [
        "plt.imshow(np.squeeze(X_train[1]),cmap=\"binary\")\n",
        "plt.show()\n",
        "Y_train.iloc[1]"
      ],
      "execution_count": 0,
      "outputs": [
        {
          "output_type": "display_data",
          "data": {
            "image/png": "[encoded data removed]",
            "text/plain": [
              "<Figure size 432x288 with 1 Axes>"
            ]
          },
          "metadata": {
            "tags": []
          }
        },
        {
          "output_type": "execute_result",
          "data": {
            "text/plain": [
              "0    1\n",
              "1    0\n",
              "2    0\n",
              "3    0\n",
              "4    0\n",
              "5    0\n",
              "6    0\n",
              "7    0\n",
              "8    0\n",
              "9    0\n",
              "Name: 1, dtype: uint8"
            ]
          },
          "metadata": {
            "tags": []
          },
          "execution_count": 5
        }
      ]
    },
    {
      "cell_type": "code",
      "metadata": {
        "id": "8ArZVL4a4i-n",
        "colab_type": "code",
        "colab": {}
      },
      "source": [
        "from sklearn.model_selection import train_test_split\n",
        "X_train, X_val, Y_train, Y_val = train_test_split(X_train, Y_train, test_size = 0.2, random_state=2)"
      ],
      "execution_count": 0,
      "outputs": []
    },
    {
      "cell_type": "code",
      "metadata": {
        "id": "5A2dmBfn3J7I",
        "colab_type": "code",
        "outputId": "5e13537e-0f51-4fc9-dc6e-0aebc077fe61",
        "colab": {
          "base_uri": "https://localhost:8080/",
          "height": 104
        }
      },
      "source": [
        "from tensorflow.keras.models import Sequential\n",
        "from tensorflow.keras.layers import Conv2D,MaxPool2D,Flatten,Dropout,Activation,Dense\n",
        "model = Sequential()\n",
        "\n",
        "model.add(Conv2D(32,(3,3),padding='same',input_shape=X_train.shape[1:]))\n",
        "model.add(Activation('relu'))\n",
        "model.add(Conv2D(32,(3,3),padding='same'))\n",
        "model.add(Activation('relu'))\n",
        "model.add(MaxPool2D(pool_size=(2,2)))\n",
        "model.add(Dropout(0.25))\n",
        "\n",
        "model.add(Conv2D(64,(3,3),padding='same'))\n",
        "model.add(Activation('relu'))\n",
        "model.add(Conv2D(64,(3,3),padding='same'))\n",
        "model.add(Activation('relu'))\n",
        "model.add(MaxPool2D(pool_size=(2,2)))\n",
        "model.add(Dropout(0.25))\n",
        "\n",
        "model.add(Flatten())\n",
        "model.add(Dense(256,activation=\"relu\"))\n",
        "model.add(Dropout(0.5))\n",
        "model.add(Dense(10,activation=\"softmax\"))"
      ],
      "execution_count": 0,
      "outputs": [
        {
          "output_type": "stream",
          "text": [
            "WARNING: Logging before flag parsing goes to stderr.\n",
            "W0827 02:25:12.783696 140088150472576 deprecation.py:506] From /usr/local/lib/python3.6/dist-packages/tensorflow/python/ops/init_ops.py:1251: calling VarianceScaling.__init__ (from tensorflow.python.ops.init_ops) with dtype is deprecated and will be removed in a future version.\n",
            "Instructions for updating:\n",
            "Call initializer instance with the dtype argument instead of passing it to the constructor\n"
          ],
          "name": "stderr"
        }
      ]
    },
    {
      "cell_type": "code",
      "metadata": {
        "id": "s2jdYiYL3Slj",
        "colab_type": "code",
        "outputId": "345417eb-82b9-471a-a0dc-5595ae277b69",
        "colab": {
          "base_uri": "https://localhost:8080/",
          "height": 34
        }
      },
      "source": [
        "from keras.optimizers import RMSprop\n",
        "from keras.callbacks import ReduceLROnPlateau\n",
        "optimizer = RMSprop(lr=0.001, rho=0.9, epsilon=1e-08, decay=0.0)\n",
        "model.compile(optimizer = \"RMSprop\",\n",
        "              loss = \"categorical_crossentropy\",\n",
        "              metrics=[\"accuracy\"])\n",
        "learning_rate_reduction = ReduceLROnPlateau(monitor='val_acc', \n",
        "                                            patience=3, \n",
        "                                            verbose=1, \n",
        "                                            factor=0.5, \n",
        "                                            min_lr=0.00001)\n",
        "epochs = 1 # Turn epochs to 30 to get 0.9967 accuracy\n",
        "batch_size = 86"
      ],
      "execution_count": 0,
      "outputs": [
        {
          "output_type": "stream",
          "text": [
            "Using TensorFlow backend.\n"
          ],
          "name": "stderr"
        }
      ]
    },
    {
      "cell_type": "code",
      "metadata": {
        "id": "4NaWpWWr3UWt",
        "colab_type": "code",
        "outputId": "2bf12667-9b74-4ee4-8eae-d508a9424cf7",
        "colab": {
          "base_uri": "https://localhost:8080/",
          "height": 706
        }
      },
      "source": [
        "history = model.fit(X_train, Y_train, batch_size = batch_size, epochs = 20, \n",
        "         validation_data = (X_val, Y_val), verbose = 2)"
      ],
      "execution_count": 0,
      "outputs": [
        {
          "output_type": "stream",
          "text": [
            "Train on 33600 samples, validate on 8400 samples\n",
            "Epoch 1/20\n",
            "33600/33600 - 137s - loss: 0.2566 - acc: 0.9173 - val_loss: 0.0831 - val_acc: 0.9742\n",
            "Epoch 2/20\n",
            "33600/33600 - 136s - loss: 0.0795 - acc: 0.9765 - val_loss: 0.0481 - val_acc: 0.9857\n",
            "Epoch 3/20\n",
            "33600/33600 - 136s - loss: 0.0583 - acc: 0.9819 - val_loss: 0.0425 - val_acc: 0.9861\n",
            "Epoch 4/20\n",
            "33600/33600 - 137s - loss: 0.0484 - acc: 0.9855 - val_loss: 0.0551 - val_acc: 0.9850\n",
            "Epoch 5/20\n",
            "33600/33600 - 136s - loss: 0.0426 - acc: 0.9875 - val_loss: 0.0344 - val_acc: 0.9899\n",
            "Epoch 6/20\n",
            "33600/33600 - 136s - loss: 0.0381 - acc: 0.9885 - val_loss: 0.0353 - val_acc: 0.9904\n",
            "Epoch 7/20\n",
            "33600/33600 - 136s - loss: 0.0368 - acc: 0.9889 - val_loss: 0.0308 - val_acc: 0.9902\n",
            "Epoch 8/20\n",
            "33600/33600 - 136s - loss: 0.0323 - acc: 0.9911 - val_loss: 0.0317 - val_acc: 0.9908\n",
            "Epoch 9/20\n",
            "33600/33600 - 136s - loss: 0.0300 - acc: 0.9907 - val_loss: 0.0405 - val_acc: 0.9898\n",
            "Epoch 10/20\n",
            "33600/33600 - 136s - loss: 0.0267 - acc: 0.9920 - val_loss: 0.0306 - val_acc: 0.9907\n",
            "Epoch 11/20\n",
            "33600/33600 - 136s - loss: 0.0270 - acc: 0.9915 - val_loss: 0.0381 - val_acc: 0.9904\n",
            "Epoch 12/20\n",
            "33600/33600 - 136s - loss: 0.0255 - acc: 0.9914 - val_loss: 0.0288 - val_acc: 0.9919\n",
            "Epoch 13/20\n",
            "33600/33600 - 135s - loss: 0.0255 - acc: 0.9920 - val_loss: 0.0451 - val_acc: 0.9896\n",
            "Epoch 14/20\n",
            "33600/33600 - 135s - loss: 0.0242 - acc: 0.9932 - val_loss: 0.0282 - val_acc: 0.9921\n",
            "Epoch 15/20\n",
            "33600/33600 - 135s - loss: 0.0264 - acc: 0.9923 - val_loss: 0.0333 - val_acc: 0.9906\n",
            "Epoch 16/20\n",
            "33600/33600 - 135s - loss: 0.0244 - acc: 0.9929 - val_loss: 0.0404 - val_acc: 0.9892\n",
            "Epoch 17/20\n",
            "33600/33600 - 135s - loss: 0.0243 - acc: 0.9926 - val_loss: 0.0349 - val_acc: 0.9907\n",
            "Epoch 18/20\n",
            "33600/33600 - 136s - loss: 0.0251 - acc: 0.9932 - val_loss: 0.0431 - val_acc: 0.9912\n",
            "Epoch 19/20\n",
            "33600/33600 - 137s - loss: 0.0232 - acc: 0.9936 - val_loss: 0.0353 - val_acc: 0.9902\n",
            "Epoch 20/20\n",
            "33600/33600 - 137s - loss: 0.0228 - acc: 0.9934 - val_loss: 0.0317 - val_acc: 0.9907\n"
          ],
          "name": "stdout"
        }
      ]
    },
    {
      "cell_type": "code",
      "metadata": {
        "id": "U-afxi4-4FOw",
        "colab_type": "code",
        "outputId": "f4964d6f-6e3d-4f62-e536-67de4004c5d6",
        "colab": {
          "base_uri": "https://localhost:8080/",
          "height": 269
        }
      },
      "source": [
        "# Plot the loss and accuracy curves for training and validation \n",
        "fig, ax = plt.subplots(2,1)\n",
        "ax[0].plot(history.history['loss'], color='b', label=\"Training loss\")\n",
        "ax[0].plot(history.history['val_loss'], color='r', label=\"validation loss\",axes =ax[0])\n",
        "legend = ax[0].legend(loc='best', shadow=True)\n",
        "\n",
        "ax[1].plot(history.history['acc'], color='b', label=\"Training accuracy\")\n",
        "ax[1].plot(history.history['val_acc'], color='r',label=\"Validation accuracy\")\n",
        "legend = ax[1].legend(loc='best', shadow=True)"
      ],
      "execution_count": 0,
      "outputs": [
        {
          "output_type": "display_data",
          "data": {
            "image/png": "[encoded data removed]",
            "text/plain": [
              "<Figure size 432x288 with 2 Axes>"
            ]
          },
          "metadata": {
            "tags": []
          }
        }
      ]
    },
    {
      "cell_type": "code",
      "metadata": {
        "id": "4DDkQAW65wbJ",
        "colab_type": "code",
        "colab": {}
      },
      "source": [
        "import pandas as pd\n",
        "# predict results\n",
        "results = model.predict(X_train)\n",
        "\n",
        "# select the indix with the maximum probability\n",
        "results = np.argmax(results,axis = 1)\n",
        "\n",
        "results = pd.Series(results,name=\"Label\")"
      ],
      "execution_count": 0,
      "outputs": []
    },
    {
      "cell_type": "code",
      "metadata": {
        "id": "nZlu0SDr6G6i",
        "colab_type": "code",
        "outputId": "fb9f17e2-bc3e-4bd0-ffda-b1314a47ca3c",
        "colab": {
          "base_uri": "https://localhost:8080/",
          "height": 269
        }
      },
      "source": [
        "plt.imshow(np.squeeze(X_train[666]),cmap=\"binary\")\n",
        "plt.show()"
      ],
      "execution_count": 0,
      "outputs": [
        {
          "output_type": "display_data",
          "data": {
            "image/png": "[encoded data removed]",
            "text/plain": [
              "<Figure size 432x288 with 1 Axes>"
            ]
          },
          "metadata": {
            "tags": []
          }
        }
      ]
    },
    {
      "cell_type": "code",
      "metadata": {
        "id": "eqS7_Mep8_h2",
        "colab_type": "code",
        "colab": {
          "base_uri": "https://localhost:8080/",
          "height": 252
        },
        "outputId": "2c554ad5-9b14-4db7-a5b0-79b98de2b888"
      },
      "source": [
        "predict = model.predict([X_val])\n",
        "predict, predict.shape"
      ],
      "execution_count": 50,
      "outputs": [
        {
          "output_type": "execute_result",
          "data": {
            "text/plain": [
              "(array([[4.58015787e-13, 2.78107273e-19, 1.15881618e-17, ...,\n",
              "         1.84311709e-22, 1.41175015e-14, 2.52650523e-17],\n",
              "        [1.71573189e-09, 1.19149874e-07, 2.30276123e-06, ...,\n",
              "         6.38045080e-04, 4.61645686e-04, 9.84999597e-01],\n",
              "        [3.61895323e-18, 6.13385129e-17, 2.23122173e-19, ...,\n",
              "         8.63060399e-17, 4.64087861e-13, 2.65386411e-12],\n",
              "        ...,\n",
              "        [6.25105236e-20, 9.46955838e-13, 5.28568109e-14, ...,\n",
              "         5.19105314e-11, 6.92960636e-14, 7.00612714e-15],\n",
              "        [2.13585191e-11, 1.69394742e-15, 6.61779642e-16, ...,\n",
              "         2.44368462e-19, 4.29385694e-12, 2.20976960e-16],\n",
              "        [1.81251298e-08, 1.22465682e-08, 7.18893389e-08, ...,\n",
              "         1.66987991e-06, 6.74176317e-06, 9.99768555e-01]], dtype=float32),\n",
              " (8400, 10))"
            ]
          },
          "metadata": {
            "tags": []
          },
          "execution_count": 50
        }
      ]
    },
    {
      "cell_type": "code",
      "metadata": {
        "id": "hh1ra4FENyKU",
        "colab_type": "code",
        "colab": {
          "base_uri": "https://localhost:8080/",
          "height": 34
        },
        "outputId": "8a834bd8-145c-4ff7-c4e0-24dde0e452eb"
      },
      "source": [
        "np.argmax(predict[6666])"
      ],
      "execution_count": 53,
      "outputs": [
        {
          "output_type": "execute_result",
          "data": {
            "text/plain": [
              "9"
            ]
          },
          "metadata": {
            "tags": []
          },
          "execution_count": 53
        }
      ]
    },
    {
      "cell_type": "code",
      "metadata": {
        "id": "2J3XqkadODkW",
        "colab_type": "code",
        "colab": {
          "base_uri": "https://localhost:8080/",
          "height": 269
        },
        "outputId": "22c68b81-ebc2-4048-cfff-3b8c3388f9bf"
      },
      "source": [
        "plt.imshow(np.squeeze(X_val[6666]),cmap=\"binary\")\n",
        "plt.show()"
      ],
      "execution_count": 55,
      "outputs": [
        {
          "output_type": "display_data",
          "data": {
            "image/png": "[encoded data removed]",
            "text/plain": [
              "<Figure size 432x288 with 1 Axes>"
            ]
          },
          "metadata": {
            "tags": []
          }
        }
      ]
    }
  ]
}