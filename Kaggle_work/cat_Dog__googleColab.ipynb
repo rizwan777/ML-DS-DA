{
 "cells": [
  {
   "cell_type": "markdown",
   "metadata": {
    "colab_type": "text",
    "id": "MnIKEHGmV3pM"
   },
   "source": [
    "# Cat And Dog image Prediction using CNN\n",
    "\n",
    "\n",
    "1.  Here, I have already cleaned data using for our operation\n",
    "2.  CNN based on Keras Seq2seq model for images specailly we use here.\n",
    "3.  i have trained 20 times and got an accuracy of nearly 92%. ohh preety good..!!\n",
    "\n",
    "\n"
   ]
  },
  {
   "cell_type": "code",
   "execution_count": 0,
   "metadata": {
    "colab": {},
    "colab_type": "code",
    "id": "6tum3nWmnr7y"
   },
   "outputs": [],
   "source": [
    "from google.colab import drive\n",
    "drive.mount('/content/drive')"
   ]
  },
  {
   "cell_type": "code",
   "execution_count": 0,
   "metadata": {
    "colab": {},
    "colab_type": "code",
    "id": "eSwF2F8pnjFi"
   },
   "outputs": [],
   "source": [
    "X_data =\"/content/drive/My Drive/GPU_DeepLearningWork/DeepLearning_GPU_Work/cat_dog_finalData/X.pickle\"\n",
    "Y_data = \"/content/drive/My Drive/GPU_DeepLearningWork/DeepLearning_GPU_Work/cat_dog_finalData/y.pickle\""
   ]
  },
  {
   "cell_type": "code",
   "execution_count": 0,
   "metadata": {
    "colab": {},
    "colab_type": "code",
    "id": "COK6RMo4oB-g"
   },
   "outputs": [],
   "source": [
    "import pickle\n",
    "X_features = pickle.load(open(X_data,\"rb\"))\n",
    "Y_lables = pickle.load(open(Y_data,\"rb\"))"
   ]
  },
  {
   "cell_type": "code",
   "execution_count": 0,
   "metadata": {
    "colab": {},
    "colab_type": "code",
    "id": "KEr3bE54oEOQ"
   },
   "outputs": [],
   "source": [
    "X_features.shape,Y_lables.shape"
   ]
  },
  {
   "cell_type": "code",
   "execution_count": 0,
   "metadata": {
    "colab": {},
    "colab_type": "code",
    "id": "wRdDcKDopDdg"
   },
   "outputs": [],
   "source": [
    "import matplotlib.pyplot as plt\n",
    "import tensorflow as tf\n",
    "import numpy as np"
   ]
  },
  {
   "cell_type": "code",
   "execution_count": 0,
   "metadata": {
    "colab": {
     "base_uri": "https://localhost:8080/",
     "height": 269
    },
    "colab_type": "code",
    "executionInfo": {
     "elapsed": 11185,
     "status": "ok",
     "timestamp": 1565229830635,
     "user": {
      "displayName": "Aarab Rizwan",
      "photoUrl": "https://lh4.googleusercontent.com/-k5zQBH9fFao/AAAAAAAAAAI/AAAAAAAAFRM/XjgwJvN-dNs/s64/photo.jpg",
      "userId": "18211600443977406185"
     },
     "user_tz": -480
    },
    "id": "f4HFnBuOpUSo",
    "outputId": "6496718a-4877-40e0-a5f5-62811867d90b"
   },
   "outputs": [
    {
     "data": {
      "image/png": "[encoded data removed]",
      "text/plain": [
       "<Figure size 432x288 with 1 Axes>"
      ]
     },
     "metadata": {
      "tags": []
     },
     "output_type": "display_data"
    }
   ],
   "source": [
    "plt.imshow(np.squeeze(X_features[10]),cmap=\"binary\")\n",
    "plt.show()"
   ]
  },
  {
   "cell_type": "code",
   "execution_count": 0,
   "metadata": {
    "colab": {
     "base_uri": "https://localhost:8080/",
     "height": 34
    },
    "colab_type": "code",
    "executionInfo": {
     "elapsed": 11011,
     "status": "ok",
     "timestamp": 1565229830637,
     "user": {
      "displayName": "Aarab Rizwan",
      "photoUrl": "https://lh4.googleusercontent.com/-k5zQBH9fFao/AAAAAAAAAAI/AAAAAAAAFRM/XjgwJvN-dNs/s64/photo.jpg",
      "userId": "18211600443977406185"
     },
     "user_tz": -480
    },
    "id": "CgdDhQsrpq-h",
    "outputId": "34b94014-1353-4c1e-fb1e-dbb32a5269f9"
   },
   "outputs": [
    {
     "data": {
      "text/plain": [
       "1"
      ]
     },
     "execution_count": 7,
     "metadata": {
      "tags": []
     },
     "output_type": "execute_result"
    }
   ],
   "source": [
    "Y_lables[10]  # yeah its allright we correctly mixed lables respact to image  of cat(0) and dog(1)."
   ]
  },
  {
   "cell_type": "code",
   "execution_count": 0,
   "metadata": {
    "colab": {},
    "colab_type": "code",
    "id": "seaVYp2Lp-5h"
   },
   "outputs": [],
   "source": [
    "# here we just normalize the data for faster calculation \n",
    "X_features = X_features / 255.0"
   ]
  },
  {
   "cell_type": "code",
   "execution_count": 0,
   "metadata": {
    "colab": {},
    "colab_type": "code",
    "id": "iDlT7FwLqSpA"
   },
   "outputs": [],
   "source": [
    "from tensorflow.keras.models import Sequential\n",
    "from tensorflow.keras.layers import Dense,Conv2D,Activation,MaxPool2D,Dropout,Flatten"
   ]
  },
  {
   "cell_type": "code",
   "execution_count": 0,
   "metadata": {
    "colab": {},
    "colab_type": "code",
    "id": "bYimH5pXtQe8"
   },
   "outputs": [],
   "source": [
    "gpu_options = tf.GPUOptions(per_process_gpu_memory_fraction=0.8)\n",
    "sess = tf.Session(config = tf.ConfigProto(gpu_options=gpu_options))"
   ]
  },
  {
   "cell_type": "code",
   "execution_count": 12,
   "metadata": {
    "colab": {
     "base_uri": "https://localhost:8080/",
     "height": 731
    },
    "colab_type": "code",
    "executionInfo": {
     "elapsed": 24262,
     "status": "ok",
     "timestamp": 1565243607230,
     "user": {
      "displayName": "Aarab Rizwan",
      "photoUrl": "https://lh4.googleusercontent.com/-k5zQBH9fFao/AAAAAAAAAAI/AAAAAAAAFRM/XjgwJvN-dNs/s64/photo.jpg",
      "userId": "18211600443977406185"
     },
     "user_tz": -480
    },
    "id": "WFBVtALnqrRB",
    "outputId": "e768e4e8-d5f7-4b3c-9b01-f670af1d1c62"
   },
   "outputs": [
    {
     "name": "stdout",
     "output_type": "stream",
     "text": [
      "Train on 17462 samples, validate on 7484 samples\n",
      "Epoch 1/20\n",
      "17462/17462 [==============================] - 606s 35ms/sample - loss: 0.6944 - acc: 0.4999 - val_loss: 0.6930 - val_acc: 0.5073\n",
      "Epoch 2/20\n",
      "17462/17462 [==============================] - 604s 35ms/sample - loss: 0.6936 - acc: 0.4960 - val_loss: 0.6932 - val_acc: 0.4927\n",
      "Epoch 3/20\n",
      "17462/17462 [==============================] - 606s 35ms/sample - loss: 0.6943 - acc: 0.4960 - val_loss: 0.6943 - val_acc: 0.4927\n",
      "Epoch 4/20\n",
      "17462/17462 [==============================] - 606s 35ms/sample - loss: 0.6919 - acc: 0.5085 - val_loss: 0.6939 - val_acc: 0.5267\n",
      "Epoch 5/20\n",
      "17462/17462 [==============================] - 604s 35ms/sample - loss: 0.6768 - acc: 0.5804 - val_loss: 0.6463 - val_acc: 0.6446\n",
      "Epoch 6/20\n",
      "17462/17462 [==============================] - 609s 35ms/sample - loss: 0.6380 - acc: 0.6453 - val_loss: 0.6000 - val_acc: 0.6840\n",
      "Epoch 7/20\n",
      "17462/17462 [==============================] - 608s 35ms/sample - loss: 0.5897 - acc: 0.6980 - val_loss: 0.5274 - val_acc: 0.7447\n",
      "Epoch 8/20\n",
      "17462/17462 [==============================] - 608s 35ms/sample - loss: 0.5289 - acc: 0.7438 - val_loss: 0.4523 - val_acc: 0.7906\n",
      "Epoch 9/20\n",
      "17462/17462 [==============================] - 610s 35ms/sample - loss: 0.4675 - acc: 0.7818 - val_loss: 0.5837 - val_acc: 0.7142\n",
      "Epoch 10/20\n",
      "17462/17462 [==============================] - 612s 35ms/sample - loss: 0.4070 - acc: 0.8167 - val_loss: 0.3618 - val_acc: 0.8361\n",
      "Epoch 11/20\n",
      "17462/17462 [==============================] - 610s 35ms/sample - loss: 0.3624 - acc: 0.8372 - val_loss: 0.3382 - val_acc: 0.8427\n",
      "Epoch 12/20\n",
      "17462/17462 [==============================] - 607s 35ms/sample - loss: 0.3255 - acc: 0.8604 - val_loss: 0.5959 - val_acc: 0.7596\n",
      "Epoch 13/20\n",
      "17462/17462 [==============================] - 608s 35ms/sample - loss: 0.3100 - acc: 0.8690 - val_loss: 0.3067 - val_acc: 0.8638\n",
      "Epoch 14/20\n",
      "17462/17462 [==============================] - 608s 35ms/sample - loss: 0.2826 - acc: 0.8844 - val_loss: 0.2863 - val_acc: 0.8807\n",
      "Epoch 15/20\n",
      "17462/17462 [==============================] - 607s 35ms/sample - loss: 0.2628 - acc: 0.8931 - val_loss: 0.3063 - val_acc: 0.8830\n",
      "Epoch 16/20\n",
      "17462/17462 [==============================] - 613s 35ms/sample - loss: 0.2564 - acc: 0.8949 - val_loss: 0.3955 - val_acc: 0.8248\n",
      "Epoch 17/20\n",
      "17462/17462 [==============================] - 611s 35ms/sample - loss: 0.3088 - acc: 0.8993 - val_loss: 0.2720 - val_acc: 0.8851\n",
      "Epoch 18/20\n",
      "17462/17462 [==============================] - 612s 35ms/sample - loss: 0.2360 - acc: 0.9090 - val_loss: 0.5447 - val_acc: 0.7595\n",
      "Epoch 19/20\n",
      "17462/17462 [==============================] - 613s 35ms/sample - loss: 0.2277 - acc: 0.9128 - val_loss: 0.5550 - val_acc: 0.8546\n",
      "Epoch 20/20\n",
      "17462/17462 [==============================] - 612s 35ms/sample - loss: 0.2300 - acc: 0.9128 - val_loss: 0.3596 - val_acc: 0.8748\n"
     ]
    },
    {
     "data": {
      "text/plain": [
       "<tensorflow.python.keras.callbacks.History at 0x7f3821ec7be0>"
      ]
     },
     "execution_count": 12,
     "metadata": {
      "tags": []
     },
     "output_type": "execute_result"
    }
   ],
   "source": [
    "from tensorflow.keras.models import Sequential\n",
    "from tensorflow.keras.layers import Convolution2D, MaxPooling2D, Dropout, Flatten, Dense, Activation, BatchNormalization\n",
    "\n",
    "model = Sequential()\n",
    "\n",
    "model.add(Convolution2D(32, (3, 3), input_shape=X_features.shape[1:], activation='relu'))\n",
    "model.add(Convolution2D(32,(3, 3),  activation='relu'))\n",
    "model.add(MaxPooling2D(pool_size=(2, 2)))\n",
    "\n",
    "model.add(Convolution2D(64, (3, 3),  activation='relu'))\n",
    "model.add(Convolution2D(64, (3, 3),  activation='relu'))\n",
    "model.add(MaxPooling2D(pool_size=(2, 2)))\n",
    "    \n",
    "model.add(Convolution2D(128,(3, 3), activation='relu'))\n",
    "model.add(Convolution2D(128, (3, 3),  activation='relu'))\n",
    "model.add(MaxPooling2D(pool_size=(2, 2)))\n",
    "    \n",
    "model.add(Convolution2D(256, (3, 3),  activation='relu'))\n",
    "model.add(Convolution2D(256, (3, 3), activation='relu'))\n",
    "model.add(MaxPooling2D(pool_size=(2, 2)))\n",
    "\n",
    "\n",
    "model.add(Flatten())\n",
    "model.add(Dense(256, activation='relu'))\n",
    "model.add(Dropout(0.5))\n",
    "    \n",
    "model.add(Dense(256, activation='relu'))\n",
    "model.add(Dropout(0.5))\n",
    "\n",
    "model.add(Dense(1))\n",
    "model.add(Activation('sigmoid'))\n",
    "\n",
    "\n",
    "\n",
    "model.compile(loss=\"binary_crossentropy\",optimizer=\"RMSprop\",metrics=['accuracy'])\n",
    "model.fit(X_features,Y_lables,batch_size=64,epochs=20,validation_split=0.3)"
   ]
  },
  {
   "cell_type": "code",
   "execution_count": 13,
   "metadata": {
    "colab": {
     "base_uri": "https://localhost:8080/",
     "height": 136
    },
    "colab_type": "code",
    "executionInfo": {
     "elapsed": 105523,
     "status": "ok",
     "timestamp": 1565243878841,
     "user": {
      "displayName": "Aarab Rizwan",
      "photoUrl": "https://lh4.googleusercontent.com/-k5zQBH9fFao/AAAAAAAAAAI/AAAAAAAAFRM/XjgwJvN-dNs/s64/photo.jpg",
      "userId": "18211600443977406185"
     },
     "user_tz": -480
    },
    "id": "wA4X03NhXPjy",
    "outputId": "0ddfea2c-f0c2-472c-8cd8-49bdd3e675fe"
   },
   "outputs": [
    {
     "data": {
      "text/plain": [
       "(array([[0.0000000e+00],\n",
       "        [4.8775306e-01],\n",
       "        [0.0000000e+00],\n",
       "        ...,\n",
       "        [0.0000000e+00],\n",
       "        [1.7512264e-04],\n",
       "        [2.1698135e-03]], dtype=float32), (24946, 1))"
      ]
     },
     "execution_count": 13,
     "metadata": {
      "tags": []
     },
     "output_type": "execute_result"
    }
   ],
   "source": [
    "predict = model.predict([X_features])\n",
    "predict, predict.shape"
   ]
  },
  {
   "cell_type": "code",
   "execution_count": 19,
   "metadata": {
    "colab": {
     "base_uri": "https://localhost:8080/",
     "height": 34
    },
    "colab_type": "code",
    "executionInfo": {
     "elapsed": 9676,
     "status": "ok",
     "timestamp": 1565250323549,
     "user": {
      "displayName": "Aarab Rizwan",
      "photoUrl": "https://lh4.googleusercontent.com/-k5zQBH9fFao/AAAAAAAAAAI/AAAAAAAAFRM/XjgwJvN-dNs/s64/photo.jpg",
      "userId": "18211600443977406185"
     },
     "user_tz": -480
    },
    "id": "SiVxcO47XX8A",
    "outputId": "0f00a5f2-d553-4989-ada6-295544807ed8"
   },
   "outputs": [
    {
     "data": {
      "text/plain": [
       "0"
      ]
     },
     "execution_count": 19,
     "metadata": {
      "tags": []
     },
     "output_type": "execute_result"
    }
   ],
   "source": [
    "np.argmax(predict[222])"
   ]
  },
  {
   "cell_type": "code",
   "execution_count": 20,
   "metadata": {
    "colab": {
     "base_uri": "https://localhost:8080/",
     "height": 269
    },
    "colab_type": "code",
    "executionInfo": {
     "elapsed": 22086,
     "status": "ok",
     "timestamp": 1565250357693,
     "user": {
      "displayName": "Aarab Rizwan",
      "photoUrl": "https://lh4.googleusercontent.com/-k5zQBH9fFao/AAAAAAAAAAI/AAAAAAAAFRM/XjgwJvN-dNs/s64/photo.jpg",
      "userId": "18211600443977406185"
     },
     "user_tz": -480
    },
    "id": "H7ePC_q1Xb6I",
    "outputId": "b0e827e2-32a7-45b8-d056-2d8791fc8f79"
   },
   "outputs": [
    {
     "data": {
      "image/png": "[encoded data removed]",
      "text/plain": [
       "<Figure size 432x288 with 1 Axes>"
      ]
     },
     "metadata": {
      "tags": []
     },
     "output_type": "display_data"
    }
   ],
   "source": [
    "plt.imshow(np.squeeze(X_features[222]),cmap=\"binary\")\n",
    "plt.show()"
   ]
  },
  {
   "cell_type": "code",
   "execution_count": 0,
   "metadata": {
    "colab": {},
    "colab_type": "code",
    "id": "jS1YxIOq0wfh"
   },
   "outputs": [],
   "source": []
  }
 ],
 "metadata": {
  "colab": {
   "collapsed_sections": [],
   "machine_shape": "hm",
   "name": "cat_Dog_GPU_googleColab.ipynb",
   "provenance": [],
   "toc_visible": true,
   "version": "0.3.2"
  },
  "kernelspec": {
   "display_name": "Python 3",
   "language": "python",
   "name": "python3"
  },
  "language_info": {
   "codemirror_mode": {
    "name": "ipython",
    "version": 3
   },
   "file_extension": ".py",
   "mimetype": "text/x-python",
   "name": "python",
   "nbconvert_exporter": "python",
   "pygments_lexer": "ipython3",
   "version": "3.6.7"
  }
 },
 "nbformat": 4,
 "nbformat_minor": 1
}
