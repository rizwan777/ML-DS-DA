{
 "cells": [
  {
   "cell_type": "code",
   "execution_count": 2,
   "metadata": {},
   "outputs": [],
   "source": [
    "# this is Number Prediction from 0 to 9 using keras and tensorflow as backend services\n",
    "import tensorflow as tf\n",
    "mnist = tf.keras.datasets.mnist   # this is datasets provided by the mnist"
   ]
  },
  {
   "cell_type": "code",
   "execution_count": 4,
   "metadata": {},
   "outputs": [
    {
     "name": "stdout",
     "output_type": "stream",
     "text": [
      "Downloading data from https://storage.googleapis.com/tensorflow/tf-keras-datasets/mnist.npz\n",
      "11493376/11490434 [==============================] - 89s 8us/step\n"
     ]
    },
    {
     "data": {
      "text/plain": [
       "((60000, 28, 28),\n",
       " array([5, 0, 4, ..., 5, 6, 8], dtype=uint8),\n",
       " (10000, 28, 28),\n",
       " (10000,))"
      ]
     },
     "execution_count": 4,
     "metadata": {},
     "output_type": "execute_result"
    }
   ],
   "source": [
    "(X_train,Y_train),(X_test,Y_test) = mnist.load_data()  # this is here we downloding our dataset for doing operation on it.\n",
    "X_train.shape, Y_train,X_test.shape,Y_test.shape"
   ]
  },
  {
   "cell_type": "code",
   "execution_count": 15,
   "metadata": {},
   "outputs": [],
   "source": [
    "X_train[0].shape  # (28, 28)\n",
    "# lets normalize the data \" this is easy to calculate the tensors. it will convert all the values between 0 to 1.\"\n",
    "X_train = tf.keras.utils.normalize(X_train)\n",
    "X_test = tf.keras.utils.normalize(X_test)"
   ]
  },
  {
   "cell_type": "code",
   "execution_count": 16,
   "metadata": {},
   "outputs": [
    {
     "data": {
      "image/png": "[encoded data removed]",
      "text/plain": [
       "<Figure size 432x288 with 1 Axes>"
      ]
     },
     "metadata": {
      "needs_background": "light"
     },
     "output_type": "display_data"
    }
   ],
   "source": [
    "import matplotlib.pyplot as plt\n",
    "plt.imshow(X_train[0],cmap='binary')\n",
    "plt.show()"
   ]
  },
  {
   "cell_type": "code",
   "execution_count": 19,
   "metadata": {},
   "outputs": [
    {
     "name": "stdout",
     "output_type": "stream",
     "text": [
      "Epoch 1/3\n",
      "60000/60000 [==============================] - 4s 64us/sample - loss: 0.2649 - acc: 0.9213\n",
      "Epoch 2/3\n",
      "60000/60000 [==============================] - 4s 61us/sample - loss: 0.1086 - acc: 0.9661\n",
      "Epoch 3/3\n",
      "60000/60000 [==============================] - 4s 61us/sample - loss: 0.0744 - acc: 0.9764\n"
     ]
    },
    {
     "data": {
      "text/plain": [
       "<tensorflow.python.keras.callbacks.History at 0x28a65cc4438>"
      ]
     },
     "execution_count": 19,
     "metadata": {},
     "output_type": "execute_result"
    }
   ],
   "source": [
    "model = tf.keras.models.Sequential()\n",
    "model.add(tf.keras.layers.Flatten())\n",
    "model.add(tf.keras.layers.Dense(128,activation=\"relu\"))\n",
    "model.add(tf.keras.layers.Dense(128,activation=\"relu\"))\n",
    "model.add(tf.keras.layers.Dense(10,activation=\"softmax\"))\n",
    "model.compile(optimizer=\"adam\",loss=\"sparse_categorical_crossentropy\",metrics=['accuracy'])\n",
    "model.fit(X_train,Y_train,epochs=3)"
   ]
  },
  {
   "cell_type": "code",
   "execution_count": 20,
   "metadata": {},
   "outputs": [
    {
     "name": "stdout",
     "output_type": "stream",
     "text": [
      "10000/10000 [==============================] - 0s 33us/sample - loss: 0.0955 - acc: 0.9726\n",
      "0.09549785977844148 0.9726\n"
     ]
    }
   ],
   "source": [
    "#lets check our model is fit well or not\n",
    "val_loss,val_acc = model.evaluate(X_test,Y_test)\n",
    "print(val_loss,val_acc)"
   ]
  },
  {
   "cell_type": "code",
   "execution_count": 21,
   "metadata": {},
   "outputs": [],
   "source": [
    "# lets save our trained model\n",
    "model.save(\"number_recognizer.model\")"
   ]
  },
  {
   "cell_type": "code",
   "execution_count": 23,
   "metadata": {},
   "outputs": [
    {
     "name": "stdout",
     "output_type": "stream",
     "text": [
      "WARNING:tensorflow:Sequential models without an `input_shape` passed to the first layer cannot reload their optimizer state. As a result, your model isstarting with a freshly initialized optimizer.\n"
     ]
    }
   ],
   "source": [
    "# if you want to load trained model then simple\n",
    "load_oldModel = tf.keras.models.load_model(\"number_recognizer.model\")"
   ]
  },
  {
   "cell_type": "code",
   "execution_count": 30,
   "metadata": {},
   "outputs": [
    {
     "data": {
      "text/plain": [
       "array([[8.3618296e-08, 1.1988643e-06, 1.4140044e-05, ..., 9.9998415e-01,\n",
       "        8.6749741e-10, 7.2491325e-08],\n",
       "       [3.6478807e-06, 1.4757302e-03, 9.9842960e-01, ..., 6.1851074e-06,\n",
       "        7.3149099e-06, 2.9615962e-10],\n",
       "       [1.0054362e-09, 9.9989092e-01, 1.2725436e-06, ..., 9.7637632e-05,\n",
       "        5.5920095e-06, 1.4021976e-08],\n",
       "       ...,\n",
       "       [1.4187561e-09, 5.1894114e-07, 5.9852301e-09, ..., 2.9392703e-04,\n",
       "        6.6856251e-06, 5.3147203e-05],\n",
       "       [8.4757389e-08, 2.3520281e-06, 1.3767154e-09, ..., 2.2856882e-07,\n",
       "        4.1438670e-05, 1.5939277e-07],\n",
       "       [4.0818722e-06, 1.0710846e-06, 1.1096921e-06, ..., 2.8417801e-09,\n",
       "        5.5787304e-08, 2.2823700e-07]], dtype=float32)"
      ]
     },
     "execution_count": 30,
     "metadata": {},
     "output_type": "execute_result"
    }
   ],
   "source": [
    "# lets try to pridict how our trained model is working\n",
    "predict = model.predict([X_test])\n",
    "predict   # its just shows the array based on the probability"
   ]
  },
  {
   "cell_type": "code",
   "execution_count": 39,
   "metadata": {},
   "outputs": [
    {
     "data": {
      "text/plain": [
       "5"
      ]
     },
     "execution_count": 39,
     "metadata": {},
     "output_type": "execute_result"
    }
   ],
   "source": [
    "# lets make it prediction. \n",
    "import numpy as np\n",
    "np.argmax(predict[8982])   # its means X_test[8982] image is 5, lets verify it\n"
   ]
  },
  {
   "cell_type": "code",
   "execution_count": 40,
   "metadata": {},
   "outputs": [
    {
     "data": {
      "image/png": "[encoded data removed]",
      "text/plain": [
       "<Figure size 432x288 with 1 Axes>"
      ]
     },
     "metadata": {
      "needs_background": "light"
     },
     "output_type": "display_data"
    }
   ],
   "source": [
    "plt.imshow(X_test[8982],cmap=\"binary\")\n",
    "plt.show()"
   ]
  },
  {
   "cell_type": "code",
   "execution_count": null,
   "metadata": {},
   "outputs": [],
   "source": []
  }
 ],
 "metadata": {
  "kernelspec": {
   "display_name": "Python 3",
   "language": "python",
   "name": "python3"
  },
  "language_info": {
   "codemirror_mode": {
    "name": "ipython",
    "version": 3
   },
   "file_extension": ".py",
   "mimetype": "text/x-python",
   "name": "python",
   "nbconvert_exporter": "python",
   "pygments_lexer": "ipython3",
   "version": "3.6.7"
  }
 },
 "nbformat": 4,
 "nbformat_minor": 2
}
